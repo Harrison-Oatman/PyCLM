{
 "cells": [
  {
   "cell_type": "code",
   "execution_count": 3,
   "id": "initial_id",
   "metadata": {
    "ExecuteTime": {
     "end_time": "2025-04-24T17:50:47.609Z",
     "start_time": "2025-04-24T17:50:46.765Z"
    }
   },
   "outputs": [
    {
     "name": "stdout",
     "output_type": "stream",
     "text": [
      "MMCore version 11.2.1, Device API version 71, Module API version 10\n",
      "Adapter path: C:\\Program Files\\Micro-Manager-2.0\n",
      "\n",
      "Loaded Devices:\n"
     ]
    },
    {
     "data": {
      "text/html": [
       "<pre style=\"white-space:pre;overflow-x:auto;line-height:normal;font-family:Menlo,'DejaVu Sans Mono',consolas,'Courier New',monospace\">┏━━━━━━━━━━━━━━━━━━━━━━━━━━━┳━━━━━━━━━━━━━━┳━━━━━━━━━━━┳━━━━━━━━━━━━━━━━━━━━━━━━━━━━┳━━━━━━━━━━━━━━━━━━━━━━━━━━━━━┓\n",
       "┃<span style=\"font-weight: bold\"> Device Label              </span>┃<span style=\"font-weight: bold\"> Type         </span>┃<span style=\"font-weight: bold\"> Current   </span>┃<span style=\"font-weight: bold\"> Library::DeviceName        </span>┃<span style=\"font-weight: bold\"> Description                 </span>┃\n",
       "┡━━━━━━━━━━━━━━━━━━━━━━━━━━━╇━━━━━━━━━━━━━━╇━━━━━━━━━━━╇━━━━━━━━━━━━━━━━━━━━━━━━━━━━╇━━━━━━━━━━━━━━━━━━━━━━━━━━━━━┩\n",
       "│<span style=\"color: #008000; text-decoration-color: #008000; font-weight: bold\"> COM4                      </span>│ Serial       │<span style=\"font-weight: bold\">           </span>│ SerialManager::COM4        │ Serial communication port   │\n",
       "│<span style=\"color: #008000; text-decoration-color: #008000; font-weight: bold\"> Kinetix                   </span>│ 📷 Camera    │<span style=\"font-weight: bold\"> Camera    </span>│ PVCAM::Camera-1            │ Universal PVCAM interface - │\n",
       "│<span style=\"color: #008000; text-decoration-color: #008000; font-weight: bold\">                           </span>│              │<span style=\"font-weight: bold\">           </span>│                            │ camera slot 1               │\n",
       "│<span style=\"color: #008000; text-decoration-color: #008000; font-weight: bold\"> XLightMMHub               </span>│ 🔌 Hub       │<span style=\"font-weight: bold\">           </span>│ XLightV3::XLightMMHub      │ XLight Hub for MM           │\n",
       "│<span style=\"color: #008000; text-decoration-color: #008000; font-weight: bold\"> Dichroic wheel            </span>│ 🟢 State     │<span style=\"font-weight: bold\">           </span>│ XLightV3::Dichroic wheel   │ Dichroic wheel device       │\n",
       "│<span style=\"color: #008000; text-decoration-color: #008000; font-weight: bold\"> Emission wheel            </span>│ 🟢 State     │<span style=\"font-weight: bold\">           </span>│ XLightV3::Emission wheel   │ Emission wheel device       │\n",
       "│<span style=\"color: #008000; text-decoration-color: #008000; font-weight: bold\"> Excitation wheel          </span>│ 🟢 State     │<span style=\"font-weight: bold\">           </span>│ XLightV3::Excitation wheel │ Excitation wheel device     │\n",
       "│<span style=\"color: #008000; text-decoration-color: #008000; font-weight: bold\"> Spinning slider           </span>│ 🟢 State     │<span style=\"font-weight: bold\">           </span>│ XLightV3::Spinning slider  │ Spinning slider device      │\n",
       "│<span style=\"color: #008000; text-decoration-color: #008000; font-weight: bold\"> Camera slider             </span>│ 🟢 State     │<span style=\"font-weight: bold\">           </span>│ XLightV3::Camera slider    │ Dual camera slider device   │\n",
       "│<span style=\"color: #008000; text-decoration-color: #008000; font-weight: bold\"> Spinning motor            </span>│ 🟢 State     │<span style=\"font-weight: bold\">           </span>│ XLightV3::Spinning motor   │ Spinning motor device       │\n",
       "│<span style=\"color: #008000; text-decoration-color: #008000; font-weight: bold\"> Emission Iris             </span>│ Generic      │<span style=\"font-weight: bold\">           </span>│ XLightV3::Emission Iris    │ Emission iris device        │\n",
       "│<span style=\"color: #008000; text-decoration-color: #008000; font-weight: bold\"> Illumination Iris         </span>│ Generic      │<span style=\"font-weight: bold\">           </span>│ XLightV3::Illumination     │ Illumination iris device    │\n",
       "│<span style=\"color: #008000; text-decoration-color: #008000; font-weight: bold\">                           </span>│              │<span style=\"font-weight: bold\">           </span>│ Iris                       │                             │\n",
       "│<span style=\"color: #008000; text-decoration-color: #008000; font-weight: bold\"> MightexPolygon1000        </span>│ SLM          │<span style=\"font-weight: bold\"> SLM       </span>│ MightexPolygon1000::Might… │ Mightex Spatial Light       │\n",
       "│<span style=\"color: #008000; text-decoration-color: #008000; font-weight: bold\">                           </span>│              │<span style=\"font-weight: bold\">           </span>│                            │ Modulator 1000              │\n",
       "│<span style=\"color: #008000; text-decoration-color: #008000; font-weight: bold\"> Celesta                   </span>│ 💡 Shutter   │<span style=\"font-weight: bold\"> Shutter   </span>│ Lumencor::LightEngine      │ Lumencor Light Engine       │\n",
       "│<span style=\"color: #008000; text-decoration-color: #008000; font-weight: bold\"> Ti2-E__0                  </span>│ 🔌 Hub       │<span style=\"font-weight: bold\">           </span>│ NikonTi2::Ti2-E__0         │ Nikon Ti2 microscope        │\n",
       "│<span style=\"color: #008000; text-decoration-color: #008000; font-weight: bold\"> ZDrive                    </span>│ ⬆  Stage     │<span style=\"font-weight: bold\">           </span>│ NikonTi2::ZDrive           │                             │\n",
       "│<span style=\"color: #008000; text-decoration-color: #008000; font-weight: bold\"> XYStage                   </span>│ 🕹  XYStage   │<span style=\"font-weight: bold\"> XYStage   </span>│ NikonTi2::XYStage          │                             │\n",
       "│<span style=\"color: #008000; text-decoration-color: #008000; font-weight: bold\"> Nosepiece                 </span>│ 🟢 State     │<span style=\"font-weight: bold\">           </span>│ NikonTi2::Nosepiece        │                             │\n",
       "│<span style=\"color: #008000; text-decoration-color: #008000; font-weight: bold\"> FilterTurret1             </span>│ 🟢 State     │<span style=\"font-weight: bold\">           </span>│ NikonTi2::FilterTurret1    │                             │\n",
       "│<span style=\"color: #008000; text-decoration-color: #008000; font-weight: bold\"> Turret1Shutter            </span>│ 💡 Shutter   │<span style=\"font-weight: bold\">           </span>│ NikonTi2::Turret1Shutter   │                             │\n",
       "│<span style=\"color: #008000; text-decoration-color: #008000; font-weight: bold\"> LightPath                 </span>│ 🟢 State     │<span style=\"font-weight: bold\">           </span>│ NikonTi2::LightPath        │                             │\n",
       "│<span style=\"color: #008000; text-decoration-color: #008000; font-weight: bold\"> PFS                       </span>│ 〰 AutoFocus │<span style=\"font-weight: bold\"> AutoFocus </span>│ NikonTi2::PFS              │                             │\n",
       "│<span style=\"color: #008000; text-decoration-color: #008000; font-weight: bold\"> PFSOffset                 </span>│ ⬆  Stage     │<span style=\"font-weight: bold\">           </span>│ NikonTi2::PFSOffset        │                             │\n",
       "│<span style=\"color: #008000; text-decoration-color: #008000; font-weight: bold\"> IntermediateMagnification </span>│ Magnifier    │<span style=\"font-weight: bold\">           </span>│ NikonTi2::IntermediateMag… │                             │\n",
       "│<span style=\"color: #008000; text-decoration-color: #008000; font-weight: bold\"> LappMainBranch1           </span>│ 🟢 State     │<span style=\"font-weight: bold\">           </span>│ NikonTi2::LappMainBranch1  │                             │\n",
       "│<span style=\"color: #008000; text-decoration-color: #008000; font-weight: bold\"> DiaLamp                   </span>│ 💡 Shutter   │<span style=\"font-weight: bold\">           </span>│ NikonTi2::DiaLamp          │                             │\n",
       "│<span style=\"color: #008000; text-decoration-color: #008000; font-weight: bold\"> Sola                      </span>│ 💡 Shutter   │<span style=\"font-weight: bold\">           </span>│ Lumencor::LightEngine      │ Lumencor Light Engine       │\n",
       "│<span style=\"color: #008000; text-decoration-color: #008000; font-weight: bold\"> Core                      </span>│ 💙 Core      │<span style=\"font-weight: bold\">           </span>│ ::Core                     │ Core device                 │\n",
       "└───────────────────────────┴──────────────┴───────────┴────────────────────────────┴─────────────────────────────┘\n",
       "</pre>\n"
      ],
      "text/plain": [
       "┏━━━━━━━━━━━━━━━━━━━━━━━━━━━┳━━━━━━━━━━━━━━┳━━━━━━━━━━━┳━━━━━━━━━━━━━━━━━━━━━━━━━━━━┳━━━━━━━━━━━━━━━━━━━━━━━━━━━━━┓\n",
       "┃\u001b[1m \u001b[0m\u001b[1mDevice Label             \u001b[0m\u001b[1m \u001b[0m┃\u001b[1m \u001b[0m\u001b[1mType        \u001b[0m\u001b[1m \u001b[0m┃\u001b[1m \u001b[0m\u001b[1mCurrent  \u001b[0m\u001b[1m \u001b[0m┃\u001b[1m \u001b[0m\u001b[1mLibrary::DeviceName       \u001b[0m\u001b[1m \u001b[0m┃\u001b[1m \u001b[0m\u001b[1mDescription                \u001b[0m\u001b[1m \u001b[0m┃\n",
       "┡━━━━━━━━━━━━━━━━━━━━━━━━━━━╇━━━━━━━━━━━━━━╇━━━━━━━━━━━╇━━━━━━━━━━━━━━━━━━━━━━━━━━━━╇━━━━━━━━━━━━━━━━━━━━━━━━━━━━━┩\n",
       "│\u001b[1;32m \u001b[0m\u001b[1;32mCOM4                     \u001b[0m\u001b[1;32m \u001b[0m│ Serial       │\u001b[1m \u001b[0m\u001b[1m         \u001b[0m\u001b[1m \u001b[0m│ SerialManager::COM4        │ Serial communication port   │\n",
       "│\u001b[1;32m \u001b[0m\u001b[1;32mKinetix                  \u001b[0m\u001b[1;32m \u001b[0m│ 📷 Camera    │\u001b[1m \u001b[0m\u001b[1mCamera   \u001b[0m\u001b[1m \u001b[0m│ PVCAM::Camera-1            │ Universal PVCAM interface - │\n",
       "│\u001b[1;32m                           \u001b[0m│              │\u001b[1m           \u001b[0m│                            │ camera slot 1               │\n",
       "│\u001b[1;32m \u001b[0m\u001b[1;32mXLightMMHub              \u001b[0m\u001b[1;32m \u001b[0m│ 🔌 Hub       │\u001b[1m \u001b[0m\u001b[1m         \u001b[0m\u001b[1m \u001b[0m│ XLightV3::XLightMMHub      │ XLight Hub for MM           │\n",
       "│\u001b[1;32m \u001b[0m\u001b[1;32mDichroic wheel           \u001b[0m\u001b[1;32m \u001b[0m│ 🟢 State     │\u001b[1m \u001b[0m\u001b[1m         \u001b[0m\u001b[1m \u001b[0m│ XLightV3::Dichroic wheel   │ Dichroic wheel device       │\n",
       "│\u001b[1;32m \u001b[0m\u001b[1;32mEmission wheel           \u001b[0m\u001b[1;32m \u001b[0m│ 🟢 State     │\u001b[1m \u001b[0m\u001b[1m         \u001b[0m\u001b[1m \u001b[0m│ XLightV3::Emission wheel   │ Emission wheel device       │\n",
       "│\u001b[1;32m \u001b[0m\u001b[1;32mExcitation wheel         \u001b[0m\u001b[1;32m \u001b[0m│ 🟢 State     │\u001b[1m \u001b[0m\u001b[1m         \u001b[0m\u001b[1m \u001b[0m│ XLightV3::Excitation wheel │ Excitation wheel device     │\n",
       "│\u001b[1;32m \u001b[0m\u001b[1;32mSpinning slider          \u001b[0m\u001b[1;32m \u001b[0m│ 🟢 State     │\u001b[1m \u001b[0m\u001b[1m         \u001b[0m\u001b[1m \u001b[0m│ XLightV3::Spinning slider  │ Spinning slider device      │\n",
       "│\u001b[1;32m \u001b[0m\u001b[1;32mCamera slider            \u001b[0m\u001b[1;32m \u001b[0m│ 🟢 State     │\u001b[1m \u001b[0m\u001b[1m         \u001b[0m\u001b[1m \u001b[0m│ XLightV3::Camera slider    │ Dual camera slider device   │\n",
       "│\u001b[1;32m \u001b[0m\u001b[1;32mSpinning motor           \u001b[0m\u001b[1;32m \u001b[0m│ 🟢 State     │\u001b[1m \u001b[0m\u001b[1m         \u001b[0m\u001b[1m \u001b[0m│ XLightV3::Spinning motor   │ Spinning motor device       │\n",
       "│\u001b[1;32m \u001b[0m\u001b[1;32mEmission Iris            \u001b[0m\u001b[1;32m \u001b[0m│ Generic      │\u001b[1m \u001b[0m\u001b[1m         \u001b[0m\u001b[1m \u001b[0m│ XLightV3::Emission Iris    │ Emission iris device        │\n",
       "│\u001b[1;32m \u001b[0m\u001b[1;32mIllumination Iris        \u001b[0m\u001b[1;32m \u001b[0m│ Generic      │\u001b[1m \u001b[0m\u001b[1m         \u001b[0m\u001b[1m \u001b[0m│ XLightV3::Illumination     │ Illumination iris device    │\n",
       "│\u001b[1;32m                           \u001b[0m│              │\u001b[1m           \u001b[0m│ Iris                       │                             │\n",
       "│\u001b[1;32m \u001b[0m\u001b[1;32mMightexPolygon1000       \u001b[0m\u001b[1;32m \u001b[0m│ SLM          │\u001b[1m \u001b[0m\u001b[1mSLM      \u001b[0m\u001b[1m \u001b[0m│ MightexPolygon1000::Might… │ Mightex Spatial Light       │\n",
       "│\u001b[1;32m                           \u001b[0m│              │\u001b[1m           \u001b[0m│                            │ Modulator 1000              │\n",
       "│\u001b[1;32m \u001b[0m\u001b[1;32mCelesta                  \u001b[0m\u001b[1;32m \u001b[0m│ 💡 Shutter   │\u001b[1m \u001b[0m\u001b[1mShutter  \u001b[0m\u001b[1m \u001b[0m│ Lumencor::LightEngine      │ Lumencor Light Engine       │\n",
       "│\u001b[1;32m \u001b[0m\u001b[1;32mTi2-E__0                 \u001b[0m\u001b[1;32m \u001b[0m│ 🔌 Hub       │\u001b[1m \u001b[0m\u001b[1m         \u001b[0m\u001b[1m \u001b[0m│ NikonTi2::Ti2-E__0         │ Nikon Ti2 microscope        │\n",
       "│\u001b[1;32m \u001b[0m\u001b[1;32mZDrive                   \u001b[0m\u001b[1;32m \u001b[0m│ ⬆  Stage     │\u001b[1m \u001b[0m\u001b[1m         \u001b[0m\u001b[1m \u001b[0m│ NikonTi2::ZDrive           │                             │\n",
       "│\u001b[1;32m \u001b[0m\u001b[1;32mXYStage                  \u001b[0m\u001b[1;32m \u001b[0m│ 🕹  XYStage   │\u001b[1m \u001b[0m\u001b[1mXYStage  \u001b[0m\u001b[1m \u001b[0m│ NikonTi2::XYStage          │                             │\n",
       "│\u001b[1;32m \u001b[0m\u001b[1;32mNosepiece                \u001b[0m\u001b[1;32m \u001b[0m│ 🟢 State     │\u001b[1m \u001b[0m\u001b[1m         \u001b[0m\u001b[1m \u001b[0m│ NikonTi2::Nosepiece        │                             │\n",
       "│\u001b[1;32m \u001b[0m\u001b[1;32mFilterTurret1            \u001b[0m\u001b[1;32m \u001b[0m│ 🟢 State     │\u001b[1m \u001b[0m\u001b[1m         \u001b[0m\u001b[1m \u001b[0m│ NikonTi2::FilterTurret1    │                             │\n",
       "│\u001b[1;32m \u001b[0m\u001b[1;32mTurret1Shutter           \u001b[0m\u001b[1;32m \u001b[0m│ 💡 Shutter   │\u001b[1m \u001b[0m\u001b[1m         \u001b[0m\u001b[1m \u001b[0m│ NikonTi2::Turret1Shutter   │                             │\n",
       "│\u001b[1;32m \u001b[0m\u001b[1;32mLightPath                \u001b[0m\u001b[1;32m \u001b[0m│ 🟢 State     │\u001b[1m \u001b[0m\u001b[1m         \u001b[0m\u001b[1m \u001b[0m│ NikonTi2::LightPath        │                             │\n",
       "│\u001b[1;32m \u001b[0m\u001b[1;32mPFS                      \u001b[0m\u001b[1;32m \u001b[0m│ 〰 AutoFocus │\u001b[1m \u001b[0m\u001b[1mAutoFocus\u001b[0m\u001b[1m \u001b[0m│ NikonTi2::PFS              │                             │\n",
       "│\u001b[1;32m \u001b[0m\u001b[1;32mPFSOffset                \u001b[0m\u001b[1;32m \u001b[0m│ ⬆  Stage     │\u001b[1m \u001b[0m\u001b[1m         \u001b[0m\u001b[1m \u001b[0m│ NikonTi2::PFSOffset        │                             │\n",
       "│\u001b[1;32m \u001b[0m\u001b[1;32mIntermediateMagnification\u001b[0m\u001b[1;32m \u001b[0m│ Magnifier    │\u001b[1m \u001b[0m\u001b[1m         \u001b[0m\u001b[1m \u001b[0m│ NikonTi2::IntermediateMag… │                             │\n",
       "│\u001b[1;32m \u001b[0m\u001b[1;32mLappMainBranch1          \u001b[0m\u001b[1;32m \u001b[0m│ 🟢 State     │\u001b[1m \u001b[0m\u001b[1m         \u001b[0m\u001b[1m \u001b[0m│ NikonTi2::LappMainBranch1  │                             │\n",
       "│\u001b[1;32m \u001b[0m\u001b[1;32mDiaLamp                  \u001b[0m\u001b[1;32m \u001b[0m│ 💡 Shutter   │\u001b[1m \u001b[0m\u001b[1m         \u001b[0m\u001b[1m \u001b[0m│ NikonTi2::DiaLamp          │                             │\n",
       "│\u001b[1;32m \u001b[0m\u001b[1;32mSola                     \u001b[0m\u001b[1;32m \u001b[0m│ 💡 Shutter   │\u001b[1m \u001b[0m\u001b[1m         \u001b[0m\u001b[1m \u001b[0m│ Lumencor::LightEngine      │ Lumencor Light Engine       │\n",
       "│\u001b[1;32m \u001b[0m\u001b[1;32mCore                     \u001b[0m\u001b[1;32m \u001b[0m│ 💙 Core      │\u001b[1m \u001b[0m\u001b[1m         \u001b[0m\u001b[1m \u001b[0m│ ::Core                     │ Core device                 │\n",
       "└───────────────────────────┴──────────────┴───────────┴────────────────────────────┴─────────────────────────────┘\n"
      ]
     },
     "metadata": {},
     "output_type": "display_data"
    },
    {
     "name": "stdout",
     "output_type": "stream",
     "text": [
      "None\n"
     ]
    }
   ],
   "source": [
    "from pymmcore_plus import CMMCorePlus\n",
    "import numpy as np\n",
    "from pathlib import Path\n",
    "\n",
    "\n",
    "core = CMMCorePlus()\n",
    "core.loadSystemConfiguration(r\"C:\\Program Files\\Micro-Manager-2.0\\Ti2MightexCrestSolaSpectra.cfg\")\n",
    "\n",
    "print(core.describe())"
   ]
  },
  {
   "cell_type": "code",
   "execution_count": 5,
   "id": "92f4eb9836ea20d5",
   "metadata": {
    "ExecuteTime": {
     "end_time": "2025-01-24T04:45:58.730869Z",
     "start_time": "2025-01-24T04:45:58.717870Z"
    },
    "collapsed": false,
    "jupyter": {
     "outputs_hidden": false
    }
   },
   "outputs": [],
   "source": [
    "core.waitForSystem()"
   ]
  },
  {
   "cell_type": "code",
   "execution_count": 6,
   "id": "78ccfd98-c3fb-439e-9a53-24aaaaff2b60",
   "metadata": {},
   "outputs": [],
   "source": [
    "from xml.etree import ElementTree\n",
    "\n",
    "tree = ElementTree.parse(r\"C:\\Users\\Nikon\\Desktop\\Code\\FeedbackControl\\multipoints.xml\")\n",
    "root = tree.getroot()"
   ]
  },
  {
   "cell_type": "code",
   "execution_count": 9,
   "id": "bf3c6c1c-c780-4be9-bde4-580c878a62b3",
   "metadata": {},
   "outputs": [
    {
     "name": "stdout",
     "output_type": "stream",
     "text": [
      "no_name {'runtype': 'CLxListVariant'}\n"
     ]
    }
   ],
   "source": [
    "for child in root:\n",
    "    print(child.tag, child.attrib)"
   ]
  },
  {
   "cell_type": "code",
   "execution_count": 22,
   "id": "00cec5b3-2609-4304-80e1-99148b7088f8",
   "metadata": {},
   "outputs": [
    {
     "data": {
      "text/plain": [
       "''"
      ]
     },
     "execution_count": 22,
     "metadata": {},
     "output_type": "execute_result"
    }
   ],
   "source": [
    "root[0][2][1].attrib[\"value\"]"
   ]
  },
  {
   "cell_type": "code",
   "execution_count": 3,
   "id": "51c47c9d-919f-42c5-b2a1-b5484b364566",
   "metadata": {},
   "outputs": [],
   "source": [
    "import os\n",
    "os.chdir(r\"C:\\Users\\Nikon\\Desktop\\Code\\FeedbackControl\")\n",
    "\n",
    "from src import Position"
   ]
  },
  {
   "cell_type": "code",
   "execution_count": 12,
   "id": "82b85338-be58-462a-9beb-404247636687",
   "metadata": {},
   "outputs": [
    {
     "name": "stdout",
     "output_type": "stream",
     "text": [
      "{'bChecked': 'true', 'strName': 'test1', 'dXPosition': '576.800000000000068', 'dYPosition': '-310.500000000000000', 'dZPosition': '1674.240000000000009', 'dPFSOffset': '-1.000000000000000', 'baUserData': ''}\n",
      "{'bChecked': 'true', 'strName': 'name two', 'dXPosition': '963.600000000000023', 'dYPosition': '368.900000000000034', 'dZPosition': '1674.200000000000045', 'dPFSOffset': '-1.000000000000000', 'baUserData': ''}\n",
      "{'bChecked': 'true', 'strName': 'a', 'dXPosition': '963.600000000000023', 'dYPosition': '-144.300000000000011', 'dZPosition': '1674.200000000000045', 'dPFSOffset': '-1.000000000000000', 'baUserData': ''}\n"
     ]
    }
   ],
   "source": [
    "from xml.etree import ElementTree\n",
    "\n",
    "fp = r\"C:\\Users\\Nikon\\Desktop\\Code\\FeedbackControl\\multipoints.xml\"\n",
    "\n",
    "tree = ElementTree.parse(fp)\n",
    "root = tree.getroot()\n",
    "\n",
    "positions = []\n",
    "\n",
    "for node in root[0]:\n",
    "    if node.attrib[\"runtype\"] != \"NDSetupMultipointListItem\":\n",
    "        continue\n",
    "\n",
    "    nv = {n.tag: n.attrib[\"value\"] for n in node if n.attrib.get(\"value\", None) is not None}\n",
    "\n",
    "    for tag in [\"dXPosition\", \"dYPosition\", \"dZPosition\", \"dPFSOffset\"]:\n",
    "        val = nv.get(tag)\n",
    "        if val is None:\n",
    "            continue\n",
    "            \n",
    "        nv[tag] = float(val)\n",
    "    \n",
    "    positions.append(Position(\n",
    "        x = float(nv.\n",
    "    )\n",
    "    \n",
    "    print(node_vals)\n",
    "    \n",
    "    # print(node[0])\n",
    "    \n",
    "    # print(node.tag)\n",
    "    # print(node.attrib[\"runtype\"])"
   ]
  }
 ],
 "metadata": {
  "kernelspec": {
   "display_name": "Python 3 (ipykernel)",
   "language": "python",
   "name": "python3"
  },
  "language_info": {
   "codemirror_mode": {
    "name": "ipython",
    "version": 3
   },
   "file_extension": ".py",
   "mimetype": "text/x-python",
   "name": "python",
   "nbconvert_exporter": "python",
   "pygments_lexer": "ipython3",
   "version": "3.11.5"
  }
 },
 "nbformat": 4,
 "nbformat_minor": 5
}
