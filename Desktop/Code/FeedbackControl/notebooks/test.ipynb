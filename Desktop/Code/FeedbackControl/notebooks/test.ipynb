{
 "cells": [
  {
   "cell_type": "code",
   "execution_count": 19,
   "id": "initial_id",
   "metadata": {
    "ExecuteTime": {
     "end_time": "2025-04-24T17:50:47.609Z",
     "start_time": "2025-04-24T17:50:46.765Z"
    }
   },
   "outputs": [
    {
     "ename": "OSError",
     "evalue": "Line 77: Property,Core,Initialize,1\nError in device \"COM4\": Unknown error in the device (1)\n\n",
     "output_type": "error",
     "traceback": [
      "\u001b[1;31m---------------------------------------------------------------------------\u001b[0m",
      "\u001b[1;31mOSError\u001b[0m                                   Traceback (most recent call last)",
      "Cell \u001b[1;32mIn[19], line 7\u001b[0m\n\u001b[0;32m      3\u001b[0m \u001b[38;5;28;01mfrom\u001b[39;00m \u001b[38;5;21;01mpathlib\u001b[39;00m \u001b[38;5;28;01mimport\u001b[39;00m Path\n\u001b[0;32m      6\u001b[0m core \u001b[38;5;241m=\u001b[39m CMMCorePlus()\n\u001b[1;32m----> 7\u001b[0m \u001b[43mcore\u001b[49m\u001b[38;5;241;43m.\u001b[39;49m\u001b[43mloadSystemConfiguration\u001b[49m\u001b[43m(\u001b[49m\u001b[38;5;124;43mr\u001b[39;49m\u001b[38;5;124;43m\"\u001b[39;49m\u001b[38;5;124;43mC:\u001b[39;49m\u001b[38;5;124;43m\\\u001b[39;49m\u001b[38;5;124;43mProgram Files\u001b[39;49m\u001b[38;5;124;43m\\\u001b[39;49m\u001b[38;5;124;43mMicro-Manager-2.0\u001b[39;49m\u001b[38;5;124;43m\\\u001b[39;49m\u001b[38;5;124;43mTi2MightexCrestSolaSpectra.cfg\u001b[39;49m\u001b[38;5;124;43m\"\u001b[39;49m\u001b[43m)\u001b[49m\n\u001b[0;32m      9\u001b[0m \u001b[38;5;28mprint\u001b[39m(core\u001b[38;5;241m.\u001b[39mdescribe())\n",
      "File \u001b[1;32m~\\miniconda3\\envs\\umm-cellpose\\Lib\\site-packages\\pymmcore_plus\\core\\_mmcore_plus.py:434\u001b[0m, in \u001b[0;36mCMMCorePlus.loadSystemConfiguration\u001b[1;34m(self, fileName)\u001b[0m\n\u001b[0;32m    432\u001b[0m     \u001b[38;5;28;01mraise\u001b[39;00m \u001b[38;5;167;01mFileNotFoundError\u001b[39;00m(\u001b[38;5;124mf\u001b[39m\u001b[38;5;124m\"\u001b[39m\u001b[38;5;124mPath does not exist: \u001b[39m\u001b[38;5;132;01m{\u001b[39;00mfpath\u001b[38;5;132;01m}\u001b[39;00m\u001b[38;5;124m\"\u001b[39m)\n\u001b[0;32m    433\u001b[0m \u001b[38;5;28mself\u001b[39m\u001b[38;5;241m.\u001b[39m_last_sys_config \u001b[38;5;241m=\u001b[39m \u001b[38;5;28mstr\u001b[39m(fpath\u001b[38;5;241m.\u001b[39mresolve())\n\u001b[1;32m--> 434\u001b[0m \u001b[38;5;28;43msuper\u001b[39;49m\u001b[43m(\u001b[49m\u001b[43m)\u001b[49m\u001b[38;5;241;43m.\u001b[39;49m\u001b[43mloadSystemConfiguration\u001b[49m\u001b[43m(\u001b[49m\u001b[38;5;28;43mself\u001b[39;49m\u001b[38;5;241;43m.\u001b[39;49m\u001b[43m_last_sys_config\u001b[49m\u001b[43m)\u001b[49m\n",
      "\u001b[1;31mOSError\u001b[0m: Line 77: Property,Core,Initialize,1\nError in device \"COM4\": Unknown error in the device (1)\n\n"
     ]
    }
   ],
   "source": [
    "from pymmcore_plus import CMMCorePlus\n",
    "import numpy as np\n",
    "from pathlib import Path\n",
    "\n",
    "\n",
    "core = CMMCorePlus()\n",
    "core.loadSystemConfiguration(r\"C:\\Program Files\\Micro-Manager-2.0\\Ti2MightexCrestSolaSpectra.cfg\")\n",
    "\n",
    "print(core.describe())"
   ]
  },
  {
   "cell_type": "code",
   "execution_count": 17,
   "id": "92f4eb9836ea20d5",
   "metadata": {
    "ExecuteTime": {
     "end_time": "2025-01-24T04:45:58.730869Z",
     "start_time": "2025-01-24T04:45:58.717870Z"
    },
    "collapsed": false,
    "jupyter": {
     "outputs_hidden": false
    }
   },
   "outputs": [
    {
     "ename": "NameError",
     "evalue": "name 'core' is not defined",
     "output_type": "error",
     "traceback": [
      "\u001b[1;31m---------------------------------------------------------------------------\u001b[0m",
      "\u001b[1;31mNameError\u001b[0m                                 Traceback (most recent call last)",
      "Cell \u001b[1;32mIn[17], line 1\u001b[0m\n\u001b[1;32m----> 1\u001b[0m \u001b[38;5;28;01mfor\u001b[39;00m group \u001b[38;5;129;01min\u001b[39;00m \u001b[43mcore\u001b[49m\u001b[38;5;241m.\u001b[39mgetAvailableConfigGroups():\n\u001b[0;32m      2\u001b[0m     cg \u001b[38;5;241m=\u001b[39m core\u001b[38;5;241m.\u001b[39mgetConfigGroupObject(group, \u001b[38;5;28;01mFalse\u001b[39;00m)\n\u001b[0;32m      3\u001b[0m     \u001b[38;5;28mprint\u001b[39m(\u001b[38;5;28mlist\u001b[39m(cg\u001b[38;5;241m.\u001b[39mitems()))\n",
      "\u001b[1;31mNameError\u001b[0m: name 'core' is not defined"
     ]
    }
   ],
   "source": [
    "for group in core.getAvailableConfigGroups():\n",
    "    cg = core.getConfigGroupObject(group, False)\n",
    "    print(list(cg.items()))"
   ]
  },
  {
   "cell_type": "code",
   "execution_count": 6,
   "id": "78ccfd98-c3fb-439e-9a53-24aaaaff2b60",
   "metadata": {},
   "outputs": [],
   "source": [
    "from xml.etree import ElementTree\n",
    "\n",
    "tree = ElementTree.parse(r\"C:\\Users\\Nikon\\Desktop\\Code\\FeedbackControl\\multipoints.xml\")\n",
    "root = tree.getroot()"
   ]
  },
  {
   "cell_type": "code",
   "execution_count": 9,
   "id": "bf3c6c1c-c780-4be9-bde4-580c878a62b3",
   "metadata": {},
   "outputs": [
    {
     "name": "stdout",
     "output_type": "stream",
     "text": [
      "no_name {'runtype': 'CLxListVariant'}\n"
     ]
    }
   ],
   "source": [
    "for child in root:\n",
    "    print(child.tag, child.attrib)"
   ]
  },
  {
   "cell_type": "code",
   "execution_count": 22,
   "id": "00cec5b3-2609-4304-80e1-99148b7088f8",
   "metadata": {},
   "outputs": [
    {
     "data": {
      "text/plain": [
       "''"
      ]
     },
     "execution_count": 22,
     "metadata": {},
     "output_type": "execute_result"
    }
   ],
   "source": [
    "root[0][2][1].attrib[\"value\"]"
   ]
  },
  {
   "cell_type": "code",
   "execution_count": 3,
   "id": "51c47c9d-919f-42c5-b2a1-b5484b364566",
   "metadata": {},
   "outputs": [],
   "source": [
    "import os\n",
    "os.chdir(r\"C:\\Users\\Nikon\\Desktop\\Code\\FeedbackControl\")\n",
    "\n",
    "from src import Position"
   ]
  },
  {
   "cell_type": "code",
   "execution_count": 16,
   "id": "82b85338-be58-462a-9beb-404247636687",
   "metadata": {},
   "outputs": [
    {
     "data": {
      "text/plain": [
       "[<src.experiments.Position at 0x179f2f8ea10>,\n",
       " <src.experiments.Position at 0x179f2f8c8d0>,\n",
       " <src.experiments.Position at 0x179f2f8edd0>]"
      ]
     },
     "execution_count": 16,
     "metadata": {},
     "output_type": "execute_result"
    }
   ],
   "source": [
    "from xml.etree import ElementTree\n",
    "\n",
    "fp = r\"C:\\Users\\Nikon\\Desktop\\Code\\FeedbackControl\\multipoints.xml\"\n",
    "\n",
    "tree = ElementTree.parse(fp)\n",
    "root = tree.getroot()\n",
    "\n",
    "positions = []\n",
    "\n",
    "for node in root[0]:\n",
    "    if node.attrib[\"runtype\"] != \"NDSetupMultipointListItem\":\n",
    "        continue\n",
    "\n",
    "    nv = {n.tag: n.attrib[\"value\"] for n in node if n.attrib.get(\"value\", None) is not None}\n",
    "\n",
    "    for tag in [\"dXPosition\", \"dYPosition\", \"dZPosition\", \"dPFSOffset\"]:\n",
    "        val = nv.get(tag)\n",
    "        if val is not None:\n",
    "            val = float(val)\n",
    "            \n",
    "        nv[tag] = val\n",
    "    \n",
    "    positions.append(Position(\n",
    "        x = nv[\"dXPosition\"],\n",
    "        y = nv[\"dYPosition\"],\n",
    "        z = nv[\"dZPosition\"],\n",
    "        pfs = nv[\"dPFSOffset\"],\n",
    "        label = nv[\"strName\"]\n",
    "    ))\n",
    "    \n",
    "positions"
   ]
  },
  {
   "cell_type": "code",
   "execution_count": null,
   "id": "369de732-8e4b-43ec-8804-34a376aa53c7",
   "metadata": {},
   "outputs": [],
   "source": []
  }
 ],
 "metadata": {
  "kernelspec": {
   "display_name": "Python 3 (ipykernel)",
   "language": "python",
   "name": "python3"
  },
  "language_info": {
   "codemirror_mode": {
    "name": "ipython",
    "version": 3
   },
   "file_extension": ".py",
   "mimetype": "text/x-python",
   "name": "python",
   "nbconvert_exporter": "python",
   "pygments_lexer": "ipython3",
   "version": "3.11.5"
  }
 },
 "nbformat": 4,
 "nbformat_minor": 5
}
