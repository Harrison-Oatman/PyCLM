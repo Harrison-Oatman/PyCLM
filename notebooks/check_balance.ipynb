{
 "cells": [
  {
   "cell_type": "code",
   "execution_count": 1,
   "id": "53213cff-221c-4b4d-b529-0e6ef34146d5",
   "metadata": {},
   "outputs": [],
   "source": [
    "from collections import namedtuple\n",
    "from typing import Optional\n",
    "from toml import load\n",
    "from copy import deepcopy\n",
    "from uuid import uuid4\n",
    "from xml.etree import ElementTree\n",
    "from pathlib import Path\n",
    "import matplotlib.pyplot as plt\n",
    "import numpy as np"
   ]
  },
  {
   "cell_type": "code",
   "execution_count": 5,
   "id": "7563c2b9-a692-463c-af97-3fbe811d9198",
   "metadata": {},
   "outputs": [],
   "source": [
    "class PositionBase:\n",
    "    pass\n",
    "\n",
    "\n",
    "class PositionWithAutoFocus(PositionBase):\n",
    "\n",
    "    def __init__(self, x=None, y=None, z=None, autofocus_offset=None, label=None):\n",
    "        self.label = label\n",
    "        self.x = x\n",
    "        self.y = y\n",
    "        self.z = z\n",
    "        self.autofocus_offset = autofocus_offset\n",
    "\n",
    "    def get_xy(self):\n",
    "        if not ((self.x is None) or (self.y is None)):\n",
    "            return [self.x, self.y]\n",
    "\n",
    "        return None\n",
    "\n",
    "    def get_z(self):\n",
    "        return self.z\n",
    "\n",
    "    def get_autofocus_offset(self):\n",
    "        return self.autofocus_offset\n",
    "\n",
    "    def as_dict(self):\n",
    "        return {\n",
    "            \"label\": self.label,\n",
    "            \"x\": self.x,\n",
    "            \"y\": self.y,\n",
    "            \"z\": self.z,\n",
    "            \"autofocus_offset\": self.autofocus_offset\n",
    "        }\n"
   ]
  },
  {
   "cell_type": "code",
   "execution_count": 6,
   "id": "0902f03d-b37f-44cb-b61f-5392973ea775",
   "metadata": {},
   "outputs": [],
   "source": [
    "def positions_from_xml(fp):\n",
    "\n",
    "    tree = ElementTree.parse(fp)\n",
    "    root = tree.getroot()\n",
    "\n",
    "    positions = []\n",
    "\n",
    "    for node in root[0]:\n",
    "        if node.attrib[\"runtype\"] != \"NDSetupMultipointListItem\":\n",
    "            continue\n",
    "\n",
    "        nv = {n.tag: n.attrib[\"value\"] for n in node if n.attrib.get(\"value\", None) is not None}\n",
    "\n",
    "        for tag in [\"dXPosition\", \"dYPosition\", \"dZPosition\", \"dPFSOffset\"]:\n",
    "            val = nv.get(tag)\n",
    "            if val is not None:\n",
    "                val = float(val)\n",
    "\n",
    "            nv[tag] = val\n",
    "\n",
    "        if (nv[\"dPFSOffset\"] is not None) and (nv[\"dPFSOffset\"] < 0):\n",
    "            nv[\"dPFSOffset\"] = None\n",
    "\n",
    "        positions.append(PositionWithAutoFocus(\n",
    "            x=nv[\"dXPosition\"],\n",
    "            y=nv[\"dYPosition\"],\n",
    "            z=nv[\"dZPosition\"],\n",
    "            autofocus_offset=nv[\"dPFSOffset\"],\n",
    "            label=nv[\"strName\"]\n",
    "        ))\n",
    "\n",
    "    return positions"
   ]
  },
  {
   "cell_type": "code",
   "execution_count": null,
   "id": "a6f139ef-6e0e-46ba-904c-fc1d1618e913",
   "metadata": {},
   "outputs": [],
   "source": [
    "f"
   ]
  },
  {
   "cell_type": "code",
   "execution_count": 19,
   "id": "f996c9e8-0a7e-43b7-9510-6826ec558029",
   "metadata": {},
   "outputs": [
    {
     "name": "stdout",
     "output_type": "stream",
     "text": [
      "[[41283.3 42492.  33057.7 32174.5 24447.9 23874.2 15640.8 14358.3 12772.4\n",
      "  22314.1 24057.3 31608.9 33387.4 31791.9 41854.6 40174.6]\n",
      " [15752.4 14679.5 14053.1 15240.3 15214.2 14127.3 23725.9 24737.5 23145.5\n",
      "  24469.6 24291.3 24601.7 24089.5 23409.2 24013.5 24043.8]]\n",
      "[-0.0058453  -0.00592309]\n"
     ]
    },
    {
     "data": {
      "text/plain": [
       "<matplotlib.collections.PathCollection at 0x26844dc5750>"
      ]
     },
     "execution_count": 19,
     "metadata": {},
     "output_type": "execute_result"
    },
    {
     "data": {
      "image/png": "[encoded data removed]",
      "text/plain": [
       "<Figure size 640x480 with 1 Axes>"
      ]
     },
     "metadata": {},
     "output_type": "display_data"
    }
   ],
   "source": [
    "from sklearn.linear_model import LinearRegression\n",
    "\n",
    "xml = r\"E:\\Harrison\\cells\\barbounce1\\multipoints.xml\"\n",
    "positions = positions_from_xml(xml)\n",
    "\n",
    "x = [p.x for p in positions]\n",
    "y = [p.y for p in positions]\n",
    "z = [p.z for p in positions]\n",
    "\n",
    "model = LinearRegression()\n",
    "X = np.stack([x, y], 0)\n",
    "print(X)\n",
    "res = model.fit(X.T, z)\n",
    "\n",
    "print(model.coef_)\n",
    "\n",
    "plt.scatter(x, z)"
   ]
  }
 ],
 "metadata": {
  "kernelspec": {
   "display_name": "Python 3 (ipykernel)",
   "language": "python",
   "name": "python3"
  },
  "language_info": {
   "codemirror_mode": {
    "name": "ipython",
    "version": 3
   },
   "file_extension": ".py",
   "mimetype": "text/x-python",
   "name": "python",
   "nbconvert_exporter": "python",
   "pygments_lexer": "ipython3",
   "version": "3.11.5"
  }
 },
 "nbformat": 4,
 "nbformat_minor": 5
}
