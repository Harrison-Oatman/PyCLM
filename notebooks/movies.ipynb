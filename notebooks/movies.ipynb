{
 "cells": [
  {
   "cell_type": "code",
   "id": "initial_id",
   "metadata": {
    "collapsed": true,
    "ExecuteTime": {
     "end_time": "2025-08-26T02:00:13.220803Z",
     "start_time": "2025-08-26T02:00:13.213802Z"
    }
   },
   "source": [
    "import matplotlib.pyplot as plt\n",
    "import tifffile\n",
    "import numpy as np\n",
    "from pathlib import Path"
   ],
   "outputs": [],
   "execution_count": 2
  },
  {
   "metadata": {
    "ExecuteTime": {
     "end_time": "2025-08-26T02:16:17.250312Z",
     "start_time": "2025-08-26T02:16:14.776957Z"
    }
   },
   "cell_type": "code",
   "source": [
    "base_dir = Path(r\"D:\\FeedbackControl\\data\\for_movies\")\n",
    "\n",
    "stem = \"cycle10.1\"\n",
    "initial = stem + \"_patterns.tif\"\n",
    "decay = stem + \"_decay_patterns.tif\"\n",
    "fbc = stem + \"_fbc_patterns.tif\"\n",
    "\n",
    "arr1 = tifffile.imread(base_dir / initial)[:80]\n",
    "arr2 = tifffile.imread(base_dir / decay)[7:]\n",
    "arr3 = tifffile.imread(base_dir / fbc)\n",
    "\n",
    "arr = np.vstack((arr1, arr2, arr3))\n",
    "\n",
    "tifffile.imwrite( base_dir / \"fbc_vals.tif\", arr[:, 0, 400:1200, 400:1200])"
   ],
   "id": "1f07c75e37632146",
   "outputs": [],
   "execution_count": 8
  },
  {
   "metadata": {
    "ExecuteTime": {
     "end_time": "2025-08-26T02:24:27.937138Z",
     "start_time": "2025-08-26T02:23:54.201836Z"
    }
   },
   "cell_type": "code",
   "source": [
    "from tqdm import tqdm\n",
    "\n",
    "for movie in tqdm(base_dir.glob(\"*.tif\")):\n",
    "    arr = tifffile.imread(movie)\n",
    "    arr = arr[1:, ..., 400:1200, 400:1200]\n",
    "\n",
    "    axes = \"tcyx\" if arr.ndim == 4 else \"tyx\"\n",
    "\n",
    "    tifffile.imwrite(base_dir / \"cropped\" / movie.name, arr, imagej=True, metadata={\"axes\": axes})\n"
   ],
   "id": "ff99cbcb8500a497",
   "outputs": [
    {
     "name": "stderr",
     "output_type": "stream",
     "text": [
      "15it [00:33,  2.24s/it]\n"
     ]
    },
    {
     "ename": "ValueError",
     "evalue": "ImageJ hyperstack shape and axes do not match",
     "output_type": "error",
     "traceback": [
      "\u001B[1;31m---------------------------------------------------------------------------\u001B[0m",
      "\u001B[1;31mValueError\u001B[0m                                Traceback (most recent call last)",
      "\u001B[1;32m~\\AppData\\Local\\Temp\\ipykernel_26516\\1160864016.py\u001B[0m in \u001B[0;36m?\u001B[1;34m()\u001B[0m\n\u001B[0;32m      5\u001B[0m     \u001B[0marr\u001B[0m \u001B[1;33m=\u001B[0m \u001B[0marr\u001B[0m\u001B[1;33m[\u001B[0m\u001B[1;36m1\u001B[0m\u001B[1;33m:\u001B[0m\u001B[1;33m,\u001B[0m \u001B[1;33m...\u001B[0m\u001B[1;33m,\u001B[0m \u001B[1;36m400\u001B[0m\u001B[1;33m:\u001B[0m\u001B[1;36m1200\u001B[0m\u001B[1;33m,\u001B[0m \u001B[1;36m400\u001B[0m\u001B[1;33m:\u001B[0m\u001B[1;36m1200\u001B[0m\u001B[1;33m]\u001B[0m\u001B[1;33m\u001B[0m\u001B[1;33m\u001B[0m\u001B[0m\n\u001B[0;32m      6\u001B[0m \u001B[1;33m\u001B[0m\u001B[0m\n\u001B[0;32m      7\u001B[0m     \u001B[0maxes\u001B[0m \u001B[1;33m=\u001B[0m \u001B[1;34m\"tcyx\"\u001B[0m \u001B[1;32mif\u001B[0m \u001B[0marr\u001B[0m\u001B[1;33m.\u001B[0m\u001B[0mndim\u001B[0m \u001B[1;33m==\u001B[0m \u001B[1;36m4\u001B[0m \u001B[1;32melse\u001B[0m \u001B[1;34m\"tyx\"\u001B[0m\u001B[1;33m\u001B[0m\u001B[1;33m\u001B[0m\u001B[0m\n\u001B[0;32m      8\u001B[0m \u001B[1;33m\u001B[0m\u001B[0m\n\u001B[1;32m----> 9\u001B[1;33m     \u001B[0mtifffile\u001B[0m\u001B[1;33m.\u001B[0m\u001B[0mimwrite\u001B[0m\u001B[1;33m(\u001B[0m\u001B[0mbase_dir\u001B[0m \u001B[1;33m/\u001B[0m \u001B[1;34m\"cropped\"\u001B[0m \u001B[1;33m/\u001B[0m \u001B[0mmovie\u001B[0m\u001B[1;33m.\u001B[0m\u001B[0mname\u001B[0m\u001B[1;33m,\u001B[0m \u001B[0marr\u001B[0m\u001B[1;33m,\u001B[0m \u001B[0mimagej\u001B[0m\u001B[1;33m=\u001B[0m\u001B[1;32mTrue\u001B[0m\u001B[1;33m,\u001B[0m \u001B[0mmetadata\u001B[0m\u001B[1;33m=\u001B[0m\u001B[1;33m{\u001B[0m\u001B[1;34m\"axes\"\u001B[0m\u001B[1;33m:\u001B[0m \u001B[0maxes\u001B[0m\u001B[1;33m}\u001B[0m\u001B[1;33m)\u001B[0m\u001B[1;33m\u001B[0m\u001B[1;33m\u001B[0m\u001B[0m\n\u001B[0m\u001B[0;32m     10\u001B[0m \u001B[1;33m\u001B[0m\u001B[0m\n",
      "\u001B[1;32m~\\.conda\\envs\\pyclm-analysis\\lib\\site-packages\\tifffile\\tifffile.py\u001B[0m in \u001B[0;36m?\u001B[1;34m(file, data, mode, bigtiff, byteorder, imagej, ome, shaped, append, shape, dtype, photometric, planarconfig, extrasamples, volumetric, tile, rowsperstrip, bitspersample, compression, compressionargs, predictor, subsampling, jpegtables, iccprofile, colormap, description, datetime, resolution, resolutionunit, subfiletype, software, metadata, extratags, contiguous, truncate, align, maxworkers, buffersize, returnoffset)\u001B[0m\n\u001B[0;32m   1407\u001B[0m         \u001B[0mimagej\u001B[0m\u001B[1;33m=\u001B[0m\u001B[0mimagej\u001B[0m\u001B[1;33m,\u001B[0m\u001B[1;33m\u001B[0m\u001B[1;33m\u001B[0m\u001B[0m\n\u001B[0;32m   1408\u001B[0m         \u001B[0mome\u001B[0m\u001B[1;33m=\u001B[0m\u001B[0mome\u001B[0m\u001B[1;33m,\u001B[0m\u001B[1;33m\u001B[0m\u001B[1;33m\u001B[0m\u001B[0m\n\u001B[0;32m   1409\u001B[0m         \u001B[0mshaped\u001B[0m\u001B[1;33m=\u001B[0m\u001B[0mshaped\u001B[0m\u001B[1;33m,\u001B[0m\u001B[1;33m\u001B[0m\u001B[1;33m\u001B[0m\u001B[0m\n\u001B[0;32m   1410\u001B[0m     ) as tif:\n\u001B[1;32m-> 1411\u001B[1;33m         result = tif.write(\n\u001B[0m\u001B[0;32m   1412\u001B[0m             \u001B[0mdata\u001B[0m\u001B[1;33m,\u001B[0m\u001B[1;33m\u001B[0m\u001B[1;33m\u001B[0m\u001B[0m\n\u001B[0;32m   1413\u001B[0m             \u001B[0mshape\u001B[0m\u001B[1;33m=\u001B[0m\u001B[0mshape\u001B[0m\u001B[1;33m,\u001B[0m\u001B[1;33m\u001B[0m\u001B[1;33m\u001B[0m\u001B[0m\n\u001B[0;32m   1414\u001B[0m             \u001B[0mdtype\u001B[0m\u001B[1;33m=\u001B[0m\u001B[0mdtype\u001B[0m\u001B[1;33m,\u001B[0m\u001B[1;33m\u001B[0m\u001B[1;33m\u001B[0m\u001B[0m\n",
      "\u001B[1;32m~\\.conda\\envs\\pyclm-analysis\\lib\\site-packages\\tifffile\\tifffile.py\u001B[0m in \u001B[0;36m?\u001B[1;34m(***failed resolving arguments***)\u001B[0m\n\u001B[0;32m   2459\u001B[0m             \u001B[1;32mif\u001B[0m \u001B[0mmetadata\u001B[0m \u001B[1;32mis\u001B[0m \u001B[1;32mNone\u001B[0m\u001B[1;33m:\u001B[0m\u001B[1;33m\u001B[0m\u001B[1;33m\u001B[0m\u001B[0m\n\u001B[0;32m   2460\u001B[0m                 \u001B[0maxes\u001B[0m \u001B[1;33m=\u001B[0m \u001B[1;32mNone\u001B[0m\u001B[1;33m\u001B[0m\u001B[1;33m\u001B[0m\u001B[0m\n\u001B[0;32m   2461\u001B[0m             \u001B[1;32melse\u001B[0m\u001B[1;33m:\u001B[0m\u001B[1;33m\u001B[0m\u001B[1;33m\u001B[0m\u001B[0m\n\u001B[0;32m   2462\u001B[0m                 \u001B[0maxes\u001B[0m \u001B[1;33m=\u001B[0m \u001B[0mmetadata\u001B[0m\u001B[1;33m.\u001B[0m\u001B[0mget\u001B[0m\u001B[1;33m(\u001B[0m\u001B[1;34m'axes'\u001B[0m\u001B[1;33m,\u001B[0m \u001B[1;32mNone\u001B[0m\u001B[1;33m)\u001B[0m\u001B[1;33m\u001B[0m\u001B[1;33m\u001B[0m\u001B[0m\n\u001B[1;32m-> 2463\u001B[1;33m             \u001B[0mijshape\u001B[0m \u001B[1;33m=\u001B[0m \u001B[0mimagej_shape\u001B[0m\u001B[1;33m(\u001B[0m\u001B[0mdatashape\u001B[0m\u001B[1;33m,\u001B[0m \u001B[0mrgb\u001B[0m\u001B[1;33m=\u001B[0m\u001B[0mijrgb\u001B[0m\u001B[1;33m,\u001B[0m \u001B[0maxes\u001B[0m\u001B[1;33m=\u001B[0m\u001B[0maxes\u001B[0m\u001B[1;33m)\u001B[0m\u001B[1;33m\u001B[0m\u001B[1;33m\u001B[0m\u001B[0m\n\u001B[0m\u001B[0;32m   2464\u001B[0m             \u001B[1;32mif\u001B[0m \u001B[0mplanarconfig\u001B[0m \u001B[1;33m==\u001B[0m \u001B[0mSEPARATE\u001B[0m\u001B[1;33m:\u001B[0m\u001B[1;33m\u001B[0m\u001B[1;33m\u001B[0m\u001B[0m\n\u001B[0;32m   2465\u001B[0m                 raise ValueError(\n\u001B[0;32m   2466\u001B[0m                     \u001B[1;34m'the ImageJ format does not support planar samples'\u001B[0m\u001B[1;33m\u001B[0m\u001B[1;33m\u001B[0m\u001B[0m\n",
      "\u001B[1;32m~\\.conda\\envs\\pyclm-analysis\\lib\\site-packages\\tifffile\\tifffile.py\u001B[0m in \u001B[0;36m?\u001B[1;34m(shape, rgb, axes)\u001B[0m\n\u001B[0;32m  21339\u001B[0m         \u001B[1;32mraise\u001B[0m \u001B[0mValueError\u001B[0m\u001B[1;33m(\u001B[0m\u001B[1;34m'ImageJ hyperstack must be 2-6 dimensional'\u001B[0m\u001B[1;33m)\u001B[0m\u001B[1;33m\u001B[0m\u001B[1;33m\u001B[0m\u001B[0m\n\u001B[0;32m  21340\u001B[0m \u001B[1;33m\u001B[0m\u001B[0m\n\u001B[0;32m  21341\u001B[0m     \u001B[1;32mif\u001B[0m \u001B[0maxes\u001B[0m\u001B[1;33m:\u001B[0m\u001B[1;33m\u001B[0m\u001B[1;33m\u001B[0m\u001B[0m\n\u001B[0;32m  21342\u001B[0m         \u001B[1;32mif\u001B[0m \u001B[0mlen\u001B[0m\u001B[1;33m(\u001B[0m\u001B[0maxes\u001B[0m\u001B[1;33m)\u001B[0m \u001B[1;33m!=\u001B[0m \u001B[0mndim\u001B[0m\u001B[1;33m:\u001B[0m\u001B[1;33m\u001B[0m\u001B[1;33m\u001B[0m\u001B[0m\n\u001B[1;32m> 21343\u001B[1;33m             \u001B[1;32mraise\u001B[0m \u001B[0mValueError\u001B[0m\u001B[1;33m(\u001B[0m\u001B[1;34m'ImageJ hyperstack shape and axes do not match'\u001B[0m\u001B[1;33m)\u001B[0m\u001B[1;33m\u001B[0m\u001B[1;33m\u001B[0m\u001B[0m\n\u001B[0m\u001B[0;32m  21344\u001B[0m         \u001B[0mi\u001B[0m \u001B[1;33m=\u001B[0m \u001B[1;36m0\u001B[0m\u001B[1;33m\u001B[0m\u001B[1;33m\u001B[0m\u001B[0m\n\u001B[0;32m  21345\u001B[0m         \u001B[0maxes\u001B[0m \u001B[1;33m=\u001B[0m \u001B[0maxes\u001B[0m\u001B[1;33m.\u001B[0m\u001B[0mupper\u001B[0m\u001B[1;33m(\u001B[0m\u001B[1;33m)\u001B[0m\u001B[1;33m\u001B[0m\u001B[1;33m\u001B[0m\u001B[0m\n\u001B[0;32m  21346\u001B[0m         \u001B[1;32mfor\u001B[0m \u001B[0max\u001B[0m \u001B[1;32min\u001B[0m \u001B[0maxes\u001B[0m\u001B[1;33m:\u001B[0m\u001B[1;33m\u001B[0m\u001B[1;33m\u001B[0m\u001B[0m\n",
      "\u001B[1;31mValueError\u001B[0m: ImageJ hyperstack shape and axes do not match"
     ]
    }
   ],
   "execution_count": 15
  }
 ],
 "metadata": {
  "kernelspec": {
   "display_name": "Python 3",
   "language": "python",
   "name": "python3"
  },
  "language_info": {
   "codemirror_mode": {
    "name": "ipython",
    "version": 2
   },
   "file_extension": ".py",
   "mimetype": "text/x-python",
   "name": "python",
   "nbconvert_exporter": "python",
   "pygments_lexer": "ipython2",
   "version": "2.7.6"
  }
 },
 "nbformat": 4,
 "nbformat_minor": 5
}
