{
 "cells": [
  {
   "cell_type": "code",
   "id": "initial_id",
   "metadata": {
    "collapsed": true,
    "ExecuteTime": {
     "end_time": "2025-04-24T17:50:47.609Z",
     "start_time": "2025-04-24T17:50:46.765Z"
    }
   },
   "source": [
    "from pymmcore_plus import CMMCorePlus\n",
    "import numpy as np\n",
    "from pathlib import Path\n",
    "\n",
    "\n",
    "core = CMMCorePlus()\n",
    "core.loadSystemConfiguration()\n",
    "\n",
    "print(core.describe())"
   ],
   "outputs": [
    {
     "ename": "LoadError",
     "evalue": "\u001B[91msyntax: extra token \"pymmcore_plus\" after end of expression\u001B[39m",
     "output_type": "error",
     "traceback": [
      "\u001B[91msyntax: extra token \"pymmcore_plus\" after end of expression\u001B[39m",
      "",
      "Stacktrace:",
      " [1] top-level scope at In[1]:1",
      " [2] include_string(::Function, ::Module, ::String, ::String) at .\\loading.jl:1091"
     ]
    }
   ],
   "execution_count": 1
  },
  {
   "cell_type": "code",
   "outputs": [],
   "source": [
    "core.wait_for_system()"
   ],
   "metadata": {
    "collapsed": false,
    "ExecuteTime": {
     "end_time": "2025-01-24T04:45:58.730869Z",
     "start_time": "2025-01-24T04:45:58.717870Z"
    }
   },
   "id": "92f4eb9836ea20d5",
   "execution_count": 3
  }
 ],
 "metadata": {
  "kernelspec": {
   "display_name": "JuliaPro_v1.5.4-1 1.5.4",
   "language": "julia",
   "name": "juliapro_v1.5.4-1-1.5"
  },
  "language_info": {
   "codemirror_mode": {
    "name": "ipython",
    "version": 2
   },
   "file_extension": ".py",
   "mimetype": "text/x-python",
   "name": "python",
   "nbconvert_exporter": "python",
   "pygments_lexer": "ipython2",
   "version": "2.7.6"
  }
 },
 "nbformat": 4,
 "nbformat_minor": 5
}
