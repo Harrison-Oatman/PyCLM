{
 "cells": [
  {
   "cell_type": "code",
   "execution_count": 1,
   "id": "initial_id",
   "metadata": {
    "ExecuteTime": {
     "end_time": "2025-04-24T17:50:47.609Z",
     "start_time": "2025-04-24T17:50:46.765Z"
    }
   },
   "outputs": [
    {
     "name": "stdout",
     "output_type": "stream",
     "text": [
      "MMCore version 11.2.1, Device API version 71, Module API version 10\n",
      "Adapter path: C:\\Program Files\\Micro-Manager-2.0\n",
      "\n",
      "Loaded Devices:\n"
     ]
    },
    {
     "data": {
      "text/html": [
       "<pre style=\"white-space:pre;overflow-x:auto;line-height:normal;font-family:Menlo,'DejaVu Sans Mono',consolas,'Courier New',monospace\">┏━━━━━━━━━━━━━━━━━━━━━━━━━━━┳━━━━━━━━━━━━━━┳━━━━━━━━━━━┳━━━━━━━━━━━━━━━━━━━━━━━━━━━━┳━━━━━━━━━━━━━━━━━━━━━━━━━━━━━┓\n",
       "┃<span style=\"font-weight: bold\"> Device Label              </span>┃<span style=\"font-weight: bold\"> Type         </span>┃<span style=\"font-weight: bold\"> Current   </span>┃<span style=\"font-weight: bold\"> Library::DeviceName        </span>┃<span style=\"font-weight: bold\"> Description                 </span>┃\n",
       "┡━━━━━━━━━━━━━━━━━━━━━━━━━━━╇━━━━━━━━━━━━━━╇━━━━━━━━━━━╇━━━━━━━━━━━━━━━━━━━━━━━━━━━━╇━━━━━━━━━━━━━━━━━━━━━━━━━━━━━┩\n",
       "│<span style=\"color: #008000; text-decoration-color: #008000; font-weight: bold\"> COM4                      </span>│ Serial       │<span style=\"font-weight: bold\">           </span>│ SerialManager::COM4        │ Serial communication port   │\n",
       "│<span style=\"color: #008000; text-decoration-color: #008000; font-weight: bold\"> Kinetix                   </span>│ 📷 Camera    │<span style=\"font-weight: bold\"> Camera    </span>│ PVCAM::Camera-1            │ Universal PVCAM interface - │\n",
       "│<span style=\"color: #008000; text-decoration-color: #008000; font-weight: bold\">                           </span>│              │<span style=\"font-weight: bold\">           </span>│                            │ camera slot 1               │\n",
       "│<span style=\"color: #008000; text-decoration-color: #008000; font-weight: bold\"> XLightMMHub               </span>│ 🔌 Hub       │<span style=\"font-weight: bold\">           </span>│ XLightV3::XLightMMHub      │ XLight Hub for MM           │\n",
       "│<span style=\"color: #008000; text-decoration-color: #008000; font-weight: bold\"> Dichroic wheel            </span>│ 🟢 State     │<span style=\"font-weight: bold\">           </span>│ XLightV3::Dichroic wheel   │ Dichroic wheel device       │\n",
       "│<span style=\"color: #008000; text-decoration-color: #008000; font-weight: bold\"> Emission wheel            </span>│ 🟢 State     │<span style=\"font-weight: bold\">           </span>│ XLightV3::Emission wheel   │ Emission wheel device       │\n",
       "│<span style=\"color: #008000; text-decoration-color: #008000; font-weight: bold\"> Excitation wheel          </span>│ 🟢 State     │<span style=\"font-weight: bold\">           </span>│ XLightV3::Excitation wheel │ Excitation wheel device     │\n",
       "│<span style=\"color: #008000; text-decoration-color: #008000; font-weight: bold\"> Spinning slider           </span>│ 🟢 State     │<span style=\"font-weight: bold\">           </span>│ XLightV3::Spinning slider  │ Spinning slider device      │\n",
       "│<span style=\"color: #008000; text-decoration-color: #008000; font-weight: bold\"> Camera slider             </span>│ 🟢 State     │<span style=\"font-weight: bold\">           </span>│ XLightV3::Camera slider    │ Dual camera slider device   │\n",
       "│<span style=\"color: #008000; text-decoration-color: #008000; font-weight: bold\"> Spinning motor            </span>│ 🟢 State     │<span style=\"font-weight: bold\">           </span>│ XLightV3::Spinning motor   │ Spinning motor device       │\n",
       "│<span style=\"color: #008000; text-decoration-color: #008000; font-weight: bold\"> Emission Iris             </span>│ Generic      │<span style=\"font-weight: bold\">           </span>│ XLightV3::Emission Iris    │ Emission iris device        │\n",
       "│<span style=\"color: #008000; text-decoration-color: #008000; font-weight: bold\"> Illumination Iris         </span>│ Generic      │<span style=\"font-weight: bold\">           </span>│ XLightV3::Illumination     │ Illumination iris device    │\n",
       "│<span style=\"color: #008000; text-decoration-color: #008000; font-weight: bold\">                           </span>│              │<span style=\"font-weight: bold\">           </span>│ Iris                       │                             │\n",
       "│<span style=\"color: #008000; text-decoration-color: #008000; font-weight: bold\"> MightexPolygon1000        </span>│ SLM          │<span style=\"font-weight: bold\"> SLM       </span>│ MightexPolygon1000::Might… │ Mightex Spatial Light       │\n",
       "│<span style=\"color: #008000; text-decoration-color: #008000; font-weight: bold\">                           </span>│              │<span style=\"font-weight: bold\">           </span>│                            │ Modulator 1000              │\n",
       "│<span style=\"color: #008000; text-decoration-color: #008000; font-weight: bold\"> Celesta                   </span>│ 💡 Shutter   │<span style=\"font-weight: bold\"> Shutter   </span>│ Lumencor::LightEngine      │ Lumencor Light Engine       │\n",
       "│<span style=\"color: #008000; text-decoration-color: #008000; font-weight: bold\"> Ti2-E__0                  </span>│ 🔌 Hub       │<span style=\"font-weight: bold\">           </span>│ NikonTi2::Ti2-E__0         │ Nikon Ti2 microscope        │\n",
       "│<span style=\"color: #008000; text-decoration-color: #008000; font-weight: bold\"> ZDrive                    </span>│ ⬆  Stage     │<span style=\"font-weight: bold\">           </span>│ NikonTi2::ZDrive           │                             │\n",
       "│<span style=\"color: #008000; text-decoration-color: #008000; font-weight: bold\"> XYStage                   </span>│ 🕹  XYStage   │<span style=\"font-weight: bold\"> XYStage   </span>│ NikonTi2::XYStage          │                             │\n",
       "│<span style=\"color: #008000; text-decoration-color: #008000; font-weight: bold\"> Nosepiece                 </span>│ 🟢 State     │<span style=\"font-weight: bold\">           </span>│ NikonTi2::Nosepiece        │                             │\n",
       "│<span style=\"color: #008000; text-decoration-color: #008000; font-weight: bold\"> FilterTurret1             </span>│ 🟢 State     │<span style=\"font-weight: bold\">           </span>│ NikonTi2::FilterTurret1    │                             │\n",
       "│<span style=\"color: #008000; text-decoration-color: #008000; font-weight: bold\"> Turret1Shutter            </span>│ 💡 Shutter   │<span style=\"font-weight: bold\">           </span>│ NikonTi2::Turret1Shutter   │                             │\n",
       "│<span style=\"color: #008000; text-decoration-color: #008000; font-weight: bold\"> LightPath                 </span>│ 🟢 State     │<span style=\"font-weight: bold\">           </span>│ NikonTi2::LightPath        │                             │\n",
       "│<span style=\"color: #008000; text-decoration-color: #008000; font-weight: bold\"> PFS                       </span>│ 〰 AutoFocus │<span style=\"font-weight: bold\"> AutoFocus </span>│ NikonTi2::PFS              │                             │\n",
       "│<span style=\"color: #008000; text-decoration-color: #008000; font-weight: bold\"> PFSOffset                 </span>│ ⬆  Stage     │<span style=\"font-weight: bold\">           </span>│ NikonTi2::PFSOffset        │                             │\n",
       "│<span style=\"color: #008000; text-decoration-color: #008000; font-weight: bold\"> IntermediateMagnification </span>│ Magnifier    │<span style=\"font-weight: bold\">           </span>│ NikonTi2::IntermediateMag… │                             │\n",
       "│<span style=\"color: #008000; text-decoration-color: #008000; font-weight: bold\"> LappMainBranch1           </span>│ 🟢 State     │<span style=\"font-weight: bold\">           </span>│ NikonTi2::LappMainBranch1  │                             │\n",
       "│<span style=\"color: #008000; text-decoration-color: #008000; font-weight: bold\"> DiaLamp                   </span>│ 💡 Shutter   │<span style=\"font-weight: bold\">           </span>│ NikonTi2::DiaLamp          │                             │\n",
       "│<span style=\"color: #008000; text-decoration-color: #008000; font-weight: bold\"> Sola                      </span>│ 💡 Shutter   │<span style=\"font-weight: bold\">           </span>│ Lumencor::LightEngine      │ Lumencor Light Engine       │\n",
       "│<span style=\"color: #008000; text-decoration-color: #008000; font-weight: bold\"> Core                      </span>│ 💙 Core      │<span style=\"font-weight: bold\">           </span>│ ::Core                     │ Core device                 │\n",
       "└───────────────────────────┴──────────────┴───────────┴────────────────────────────┴─────────────────────────────┘\n",
       "</pre>\n"
      ],
      "text/plain": [
       "┏━━━━━━━━━━━━━━━━━━━━━━━━━━━┳━━━━━━━━━━━━━━┳━━━━━━━━━━━┳━━━━━━━━━━━━━━━━━━━━━━━━━━━━┳━━━━━━━━━━━━━━━━━━━━━━━━━━━━━┓\n",
       "┃\u001b[1m \u001b[0m\u001b[1mDevice Label             \u001b[0m\u001b[1m \u001b[0m┃\u001b[1m \u001b[0m\u001b[1mType        \u001b[0m\u001b[1m \u001b[0m┃\u001b[1m \u001b[0m\u001b[1mCurrent  \u001b[0m\u001b[1m \u001b[0m┃\u001b[1m \u001b[0m\u001b[1mLibrary::DeviceName       \u001b[0m\u001b[1m \u001b[0m┃\u001b[1m \u001b[0m\u001b[1mDescription                \u001b[0m\u001b[1m \u001b[0m┃\n",
       "┡━━━━━━━━━━━━━━━━━━━━━━━━━━━╇━━━━━━━━━━━━━━╇━━━━━━━━━━━╇━━━━━━━━━━━━━━━━━━━━━━━━━━━━╇━━━━━━━━━━━━━━━━━━━━━━━━━━━━━┩\n",
       "│\u001b[1;32m \u001b[0m\u001b[1;32mCOM4                     \u001b[0m\u001b[1;32m \u001b[0m│ Serial       │\u001b[1m \u001b[0m\u001b[1m         \u001b[0m\u001b[1m \u001b[0m│ SerialManager::COM4        │ Serial communication port   │\n",
       "│\u001b[1;32m \u001b[0m\u001b[1;32mKinetix                  \u001b[0m\u001b[1;32m \u001b[0m│ 📷 Camera    │\u001b[1m \u001b[0m\u001b[1mCamera   \u001b[0m\u001b[1m \u001b[0m│ PVCAM::Camera-1            │ Universal PVCAM interface - │\n",
       "│\u001b[1;32m                           \u001b[0m│              │\u001b[1m           \u001b[0m│                            │ camera slot 1               │\n",
       "│\u001b[1;32m \u001b[0m\u001b[1;32mXLightMMHub              \u001b[0m\u001b[1;32m \u001b[0m│ 🔌 Hub       │\u001b[1m \u001b[0m\u001b[1m         \u001b[0m\u001b[1m \u001b[0m│ XLightV3::XLightMMHub      │ XLight Hub for MM           │\n",
       "│\u001b[1;32m \u001b[0m\u001b[1;32mDichroic wheel           \u001b[0m\u001b[1;32m \u001b[0m│ 🟢 State     │\u001b[1m \u001b[0m\u001b[1m         \u001b[0m\u001b[1m \u001b[0m│ XLightV3::Dichroic wheel   │ Dichroic wheel device       │\n",
       "│\u001b[1;32m \u001b[0m\u001b[1;32mEmission wheel           \u001b[0m\u001b[1;32m \u001b[0m│ 🟢 State     │\u001b[1m \u001b[0m\u001b[1m         \u001b[0m\u001b[1m \u001b[0m│ XLightV3::Emission wheel   │ Emission wheel device       │\n",
       "│\u001b[1;32m \u001b[0m\u001b[1;32mExcitation wheel         \u001b[0m\u001b[1;32m \u001b[0m│ 🟢 State     │\u001b[1m \u001b[0m\u001b[1m         \u001b[0m\u001b[1m \u001b[0m│ XLightV3::Excitation wheel │ Excitation wheel device     │\n",
       "│\u001b[1;32m \u001b[0m\u001b[1;32mSpinning slider          \u001b[0m\u001b[1;32m \u001b[0m│ 🟢 State     │\u001b[1m \u001b[0m\u001b[1m         \u001b[0m\u001b[1m \u001b[0m│ XLightV3::Spinning slider  │ Spinning slider device      │\n",
       "│\u001b[1;32m \u001b[0m\u001b[1;32mCamera slider            \u001b[0m\u001b[1;32m \u001b[0m│ 🟢 State     │\u001b[1m \u001b[0m\u001b[1m         \u001b[0m\u001b[1m \u001b[0m│ XLightV3::Camera slider    │ Dual camera slider device   │\n",
       "│\u001b[1;32m \u001b[0m\u001b[1;32mSpinning motor           \u001b[0m\u001b[1;32m \u001b[0m│ 🟢 State     │\u001b[1m \u001b[0m\u001b[1m         \u001b[0m\u001b[1m \u001b[0m│ XLightV3::Spinning motor   │ Spinning motor device       │\n",
       "│\u001b[1;32m \u001b[0m\u001b[1;32mEmission Iris            \u001b[0m\u001b[1;32m \u001b[0m│ Generic      │\u001b[1m \u001b[0m\u001b[1m         \u001b[0m\u001b[1m \u001b[0m│ XLightV3::Emission Iris    │ Emission iris device        │\n",
       "│\u001b[1;32m \u001b[0m\u001b[1;32mIllumination Iris        \u001b[0m\u001b[1;32m \u001b[0m│ Generic      │\u001b[1m \u001b[0m\u001b[1m         \u001b[0m\u001b[1m \u001b[0m│ XLightV3::Illumination     │ Illumination iris device    │\n",
       "│\u001b[1;32m                           \u001b[0m│              │\u001b[1m           \u001b[0m│ Iris                       │                             │\n",
       "│\u001b[1;32m \u001b[0m\u001b[1;32mMightexPolygon1000       \u001b[0m\u001b[1;32m \u001b[0m│ SLM          │\u001b[1m \u001b[0m\u001b[1mSLM      \u001b[0m\u001b[1m \u001b[0m│ MightexPolygon1000::Might… │ Mightex Spatial Light       │\n",
       "│\u001b[1;32m                           \u001b[0m│              │\u001b[1m           \u001b[0m│                            │ Modulator 1000              │\n",
       "│\u001b[1;32m \u001b[0m\u001b[1;32mCelesta                  \u001b[0m\u001b[1;32m \u001b[0m│ 💡 Shutter   │\u001b[1m \u001b[0m\u001b[1mShutter  \u001b[0m\u001b[1m \u001b[0m│ Lumencor::LightEngine      │ Lumencor Light Engine       │\n",
       "│\u001b[1;32m \u001b[0m\u001b[1;32mTi2-E__0                 \u001b[0m\u001b[1;32m \u001b[0m│ 🔌 Hub       │\u001b[1m \u001b[0m\u001b[1m         \u001b[0m\u001b[1m \u001b[0m│ NikonTi2::Ti2-E__0         │ Nikon Ti2 microscope        │\n",
       "│\u001b[1;32m \u001b[0m\u001b[1;32mZDrive                   \u001b[0m\u001b[1;32m \u001b[0m│ ⬆  Stage     │\u001b[1m \u001b[0m\u001b[1m         \u001b[0m\u001b[1m \u001b[0m│ NikonTi2::ZDrive           │                             │\n",
       "│\u001b[1;32m \u001b[0m\u001b[1;32mXYStage                  \u001b[0m\u001b[1;32m \u001b[0m│ 🕹  XYStage   │\u001b[1m \u001b[0m\u001b[1mXYStage  \u001b[0m\u001b[1m \u001b[0m│ NikonTi2::XYStage          │                             │\n",
       "│\u001b[1;32m \u001b[0m\u001b[1;32mNosepiece                \u001b[0m\u001b[1;32m \u001b[0m│ 🟢 State     │\u001b[1m \u001b[0m\u001b[1m         \u001b[0m\u001b[1m \u001b[0m│ NikonTi2::Nosepiece        │                             │\n",
       "│\u001b[1;32m \u001b[0m\u001b[1;32mFilterTurret1            \u001b[0m\u001b[1;32m \u001b[0m│ 🟢 State     │\u001b[1m \u001b[0m\u001b[1m         \u001b[0m\u001b[1m \u001b[0m│ NikonTi2::FilterTurret1    │                             │\n",
       "│\u001b[1;32m \u001b[0m\u001b[1;32mTurret1Shutter           \u001b[0m\u001b[1;32m \u001b[0m│ 💡 Shutter   │\u001b[1m \u001b[0m\u001b[1m         \u001b[0m\u001b[1m \u001b[0m│ NikonTi2::Turret1Shutter   │                             │\n",
       "│\u001b[1;32m \u001b[0m\u001b[1;32mLightPath                \u001b[0m\u001b[1;32m \u001b[0m│ 🟢 State     │\u001b[1m \u001b[0m\u001b[1m         \u001b[0m\u001b[1m \u001b[0m│ NikonTi2::LightPath        │                             │\n",
       "│\u001b[1;32m \u001b[0m\u001b[1;32mPFS                      \u001b[0m\u001b[1;32m \u001b[0m│ 〰 AutoFocus │\u001b[1m \u001b[0m\u001b[1mAutoFocus\u001b[0m\u001b[1m \u001b[0m│ NikonTi2::PFS              │                             │\n",
       "│\u001b[1;32m \u001b[0m\u001b[1;32mPFSOffset                \u001b[0m\u001b[1;32m \u001b[0m│ ⬆  Stage     │\u001b[1m \u001b[0m\u001b[1m         \u001b[0m\u001b[1m \u001b[0m│ NikonTi2::PFSOffset        │                             │\n",
       "│\u001b[1;32m \u001b[0m\u001b[1;32mIntermediateMagnification\u001b[0m\u001b[1;32m \u001b[0m│ Magnifier    │\u001b[1m \u001b[0m\u001b[1m         \u001b[0m\u001b[1m \u001b[0m│ NikonTi2::IntermediateMag… │                             │\n",
       "│\u001b[1;32m \u001b[0m\u001b[1;32mLappMainBranch1          \u001b[0m\u001b[1;32m \u001b[0m│ 🟢 State     │\u001b[1m \u001b[0m\u001b[1m         \u001b[0m\u001b[1m \u001b[0m│ NikonTi2::LappMainBranch1  │                             │\n",
       "│\u001b[1;32m \u001b[0m\u001b[1;32mDiaLamp                  \u001b[0m\u001b[1;32m \u001b[0m│ 💡 Shutter   │\u001b[1m \u001b[0m\u001b[1m         \u001b[0m\u001b[1m \u001b[0m│ NikonTi2::DiaLamp          │                             │\n",
       "│\u001b[1;32m \u001b[0m\u001b[1;32mSola                     \u001b[0m\u001b[1;32m \u001b[0m│ 💡 Shutter   │\u001b[1m \u001b[0m\u001b[1m         \u001b[0m\u001b[1m \u001b[0m│ Lumencor::LightEngine      │ Lumencor Light Engine       │\n",
       "│\u001b[1;32m \u001b[0m\u001b[1;32mCore                     \u001b[0m\u001b[1;32m \u001b[0m│ 💙 Core      │\u001b[1m \u001b[0m\u001b[1m         \u001b[0m\u001b[1m \u001b[0m│ ::Core                     │ Core device                 │\n",
       "└───────────────────────────┴──────────────┴───────────┴────────────────────────────┴─────────────────────────────┘\n"
      ]
     },
     "metadata": {},
     "output_type": "display_data"
    },
    {
     "name": "stdout",
     "output_type": "stream",
     "text": [
      "None\n"
     ]
    }
   ],
   "source": [
    "from pymmcore_plus import CMMCorePlus\n",
    "import numpy as np\n",
    "from pathlib import Path\n",
    "\n",
    "\n",
    "core = CMMCorePlus()\n",
    "core.loadSystemConfiguration(r\"C:\\Program Files\\Micro-Manager-2.0\\Ti2MightexCrestSolaSpectra.cfg\")\n",
    "\n",
    "print(core.describe())"
   ]
  },
  {
   "cell_type": "code",
   "execution_count": 2,
   "id": "4c7efca1-5521-41e0-8a23-f99cae02743e",
   "metadata": {},
   "outputs": [
    {
     "name": "stdout",
     "output_type": "stream",
     "text": [
      "1597.72\n"
     ]
    }
   ],
   "source": [
    "core.setFocusDevice(\"ZDrive\")\n",
    "print(core.getZPosition())"
   ]
  },
  {
   "cell_type": "code",
   "execution_count": 3,
   "id": "3867e471-6b58-4b7c-b488-29ba45db5202",
   "metadata": {},
   "outputs": [
    {
     "name": "stdout",
     "output_type": "stream",
     "text": [
      "0.020: PFS Status 0000000100000000\n",
      "0.022: FocusMaintenance Off\n",
      "0.194: FocusMaintenance On\n",
      "1597.3400000000001\n",
      "0.599: PFS Status 0000001100001001\n",
      "0.615: PFS Status 0000001100001010\n",
      "2.099: PFS Status 0000001100001001\n",
      "2.107: PFS Status 0000001100001010\n",
      "2.288: PFS Status 0000001100001001\n",
      "2.304: PFS Status 0000001100001010\n",
      "2.499: PFS Status 0000001100001001\n",
      "2.519: PFS Status 0000001100001010\n",
      "2.632: PFS Status 0000001100001001\n",
      "2.640: PFS Status 0000001100001010\n",
      "2.728: PFS Status 0000001100001001\n",
      "2.740: PFS Status 0000001100001010\n",
      "4.640: PFS Status 0000001100001001\n",
      "4.648: PFS Status 0000001100001010\n",
      "4.707: PFS Status 0000001100001001\n",
      "4.751: PFS Status 0000001100001010\n",
      "4.839: PFS Status 0000001100001001\n",
      "4.859: PFS Status 0000001100001010\n",
      "4.980: PFS Status 0000001100001001\n",
      "5.004: PFS Status 0000001100001010\n",
      "5.052: PFS Status 0000001100001001\n",
      "5.064: PFS Status 0000001100001010\n",
      "5.243: PFS Status 0000001100001001\n",
      "5.251: PFS Status 0000001100001010\n",
      "5.511: PFS Status 0000001100001001\n",
      "5.523: PFS Status 0000001100001010\n",
      "35.176: PFS Status 0000001100001001\n",
      "35.196: PFS Status 0000001100001010\n",
      "35.356: PFS Status 0000001100001001\n",
      "35.368: PFS Status 0000001100001010\n",
      "36.392: PFS Status 0000001100001001\n",
      "36.432: PFS Status 0000001100001010\n"
     ]
    }
   ],
   "source": [
    "from time import time\n",
    "t_start = time()\n",
    "\n",
    "def print_fn(*args):\n",
    "    print(f\"{time() - t_start :0.3f}: {' '.join(args)}\")\n",
    "\n",
    "pfs = core.getAutoFocusDevice()\n",
    "core.events.devicePropertyChanged(pfs).connect(print_fn)\n",
    "\n",
    "core.setZPosition(1597.0)\n",
    "\n",
    "core.setAutoFocusOffset(6914.0)\n",
    "\n",
    "core.setProperty(\"PFS\", \"FocusMaintenance\", \"On\")\n",
    "\n",
    "while core.getProperty(\"PFS\", \"PFS Status\") != \"0000001100001010\":\n",
    "    pass\n",
    "    \n",
    "# core.setAutoFocusOffset(7440.0)\n",
    "\n",
    "print(core.getZPosition())\n"
   ]
  },
  {
   "cell_type": "code",
   "execution_count": 4,
   "id": "79d996ee-6eac-4840-905d-497069ebb1ae",
   "metadata": {},
   "outputs": [
    {
     "name": "stdout",
     "output_type": "stream",
     "text": [
      "1449.88\n"
     ]
    }
   ],
   "source": [
    "print(core.getPosition())"
   ]
  },
  {
   "cell_type": "code",
   "execution_count": 3,
   "id": "92f4eb9836ea20d5",
   "metadata": {
    "ExecuteTime": {
     "end_time": "2025-01-24T04:45:58.730869Z",
     "start_time": "2025-01-24T04:45:58.717870Z"
    },
    "collapsed": false,
    "jupyter": {
     "outputs_hidden": false
    }
   },
   "outputs": [
    {
     "name": "stdout",
     "output_type": "stream",
     "text": [
      "Channel\n",
      "[('405', <MMCorePlus Configuration with 9 settings>), ('446', <MMCorePlus Configuration with 9 settings>), ('477', <MMCorePlus Configuration with 9 settings>), ('514', <MMCorePlus Configuration with 9 settings>), ('545', <MMCorePlus Configuration with 9 settings>), ('577', <MMCorePlus Configuration with 9 settings>), ('638', <MMCorePlus Configuration with 9 settings>), ('DMD', <MMCorePlus Configuration with 9 settings>), ('Test', <MMCorePlus Configuration with 9 settings>)]\n",
      "Laser-Intensity\n",
      "[('0.1%', <MMCorePlus Configuration with 7 settings>), ('2.5%', <MMCorePlus Configuration with 7 settings>), ('25%', <MMCorePlus Configuration with 7 settings>), ('AllOff', <MMCorePlus Configuration with 7 settings>), ('Max', <MMCorePlus Configuration with 7 settings>)]\n",
      "LightPath\n",
      "[('DMD', <MMCorePlus Configuration with 3 settings>), ('Fluor', <MMCorePlus Configuration with 3 settings>)]\n",
      "Objective\n",
      "[('1-Plan Apo LmbdD0.80 20x', <MMCorePlus Configuration with 1 settings>), ('2-', <MMCorePlus Configuration with 1 settings>), ('3-', <MMCorePlus Configuration with 1 settings>), ('4-Plan Apo LmbdD0.25 40x', <MMCorePlus Configuration with 1 settings>), ('5-', <MMCorePlus Configuration with 1 settings>), ('6-', <MMCorePlus Configuration with 1 settings>)]\n",
      "Sola\n",
      "[('min', <MMCorePlus Configuration with 2 settings>), ('startup', <MMCorePlus Configuration with 2 settings>)]\n",
      "System\n",
      "[('Startup', <MMCorePlus Configuration with 5 settings>)]\n"
     ]
    }
   ],
   "source": [
    "core.waitForSystem()\n",
    "\n",
    "for group in core.getAvailableConfigGroups():\n",
    "    cg = core.getConfigGroupObject(group, False)\n",
    "    print(cg.name)\n",
    "    print(list(cg.items()))"
   ]
  },
  {
   "cell_type": "code",
   "execution_count": 2,
   "id": "78ccfd98-c3fb-439e-9a53-24aaaaff2b60",
   "metadata": {},
   "outputs": [],
   "source": [
    "from xml.etree import ElementTree\n",
    "\n",
    "tree = ElementTree.parse(r\"C:\\Users\\Nikon\\Desktop\\Code\\FeedbackControl\\multipoints.xml\")\n",
    "root = tree.getroot()"
   ]
  },
  {
   "cell_type": "code",
   "execution_count": 3,
   "id": "bf3c6c1c-c780-4be9-bde4-580c878a62b3",
   "metadata": {},
   "outputs": [
    {
     "name": "stdout",
     "output_type": "stream",
     "text": [
      "no_name {'runtype': 'CLxListVariant'}\n"
     ]
    }
   ],
   "source": [
    "for child in root:\n",
    "    print(child.tag, child.attrib)"
   ]
  },
  {
   "cell_type": "code",
   "execution_count": 5,
   "id": "00cec5b3-2609-4304-80e1-99148b7088f8",
   "metadata": {},
   "outputs": [
    {
     "data": {
      "text/plain": [
       "{'runtype': 'CLxStringW', 'value': 'test1'}"
      ]
     },
     "execution_count": 5,
     "metadata": {},
     "output_type": "execute_result"
    }
   ],
   "source": [
    "root[0][2][1].attrib"
   ]
  },
  {
   "cell_type": "code",
   "execution_count": 9,
   "id": "1b2d80a7-6710-4f1d-905f-7ed42a29603f",
   "metadata": {},
   "outputs": [
    {
     "ename": "ImportError",
     "evalue": "cannot import name 'Position' from 'src' (unknown location)",
     "output_type": "error",
     "traceback": [
      "\u001b[1;31m---------------------------------------------------------------------------\u001b[0m",
      "\u001b[1;31mImportError\u001b[0m                               Traceback (most recent call last)",
      "Cell \u001b[1;32mIn[9], line 4\u001b[0m\n\u001b[0;32m      1\u001b[0m \u001b[38;5;28;01mimport\u001b[39;00m \u001b[38;5;21;01mos\u001b[39;00m\n\u001b[0;32m      2\u001b[0m os\u001b[38;5;241m.\u001b[39mpath\u001b[38;5;241m.\u001b[39mjoin(\u001b[38;5;124mr\u001b[39m\u001b[38;5;124m\"\u001b[39m\u001b[38;5;124mC:\u001b[39m\u001b[38;5;124m\\\u001b[39m\u001b[38;5;124mUsers\u001b[39m\u001b[38;5;124m\\\u001b[39m\u001b[38;5;124mNikon\u001b[39m\u001b[38;5;124m\\\u001b[39m\u001b[38;5;124mDesktop\u001b[39m\u001b[38;5;124m\\\u001b[39m\u001b[38;5;124mCode\u001b[39m\u001b[38;5;124m\\\u001b[39m\u001b[38;5;124mFeedbackControl\u001b[39m\u001b[38;5;124m\"\u001b[39m)\n\u001b[1;32m----> 4\u001b[0m \u001b[38;5;28;01mfrom\u001b[39;00m \u001b[38;5;21;01msrc\u001b[39;00m \u001b[38;5;28;01mimport\u001b[39;00m Position\n",
      "\u001b[1;31mImportError\u001b[0m: cannot import name 'Position' from 'src' (unknown location)"
     ]
    }
   ],
   "source": [
    "import os\n",
    "os.path.join(r\"C:\\Users\\Nikon\\Desktop\\Code\\FeedbackControl\")\n",
    "\n",
    "from src import Position"
   ]
  },
  {
   "cell_type": "code",
   "execution_count": 10,
   "id": "1ca4fa73-6eb2-4d6a-93b3-e02a45cfb074",
   "metadata": {},
   "outputs": [
    {
     "name": "stdout",
     "output_type": "stream",
     "text": [
      "C:\\Users\\Nikon\\Desktop\\Code\\FeedbackControl\\notebooks\n"
     ]
    }
   ],
   "source": [
    "print(Path().cwd())"
   ]
  }
 ],
 "metadata": {
  "kernelspec": {
   "display_name": "Python 3 (ipykernel)",
   "language": "python",
   "name": "python3"
  },
  "language_info": {
   "codemirror_mode": {
    "name": "ipython",
    "version": 3
   },
   "file_extension": ".py",
   "mimetype": "text/x-python",
   "name": "python",
   "nbconvert_exporter": "python",
   "pygments_lexer": "ipython3",
   "version": "3.11.5"
  }
 },
 "nbformat": 4,
 "nbformat_minor": 5
}
