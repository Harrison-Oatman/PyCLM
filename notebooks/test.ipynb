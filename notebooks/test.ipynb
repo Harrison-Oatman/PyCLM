{
 "cells": [
  {
   "cell_type": "code",
   "execution_count": 4,
   "id": "initial_id",
   "metadata": {
    "collapsed": true,
    "ExecuteTime": {
     "end_time": "2025-02-07T19:47:03.278715Z",
     "start_time": "2025-02-07T19:47:03.163716Z"
    }
   },
   "outputs": [
    {
     "name": "stdout",
     "output_type": "stream",
     "text": [
      "MMCore version 11.2.1, Device API version 71, Module API version 10\n",
      "Adapter path: C:\\Users\\Harrison\\AppData\\Local\\pymmcore-plus\\pymmcore-plus\\mm\\Micro-Manager_2.0.3_20250129\n",
      "\n",
      "Loaded Devices:\n"
     ]
    },
    {
     "data": {
      "text/plain": "┏━━━━━━━━━━━━━━━━━━━━━┳━━━━━━━━━━━━━━┳━━━━━━━━━━━┳━━━━━━━━━━━━━━━━━━━━━━━━━━━━━━━━┳━━━━━━━━━━━━━━━━━━━━━━━━━━━━━━━┓\n┃\u001B[1m \u001B[0m\u001B[1mDevice Label       \u001B[0m\u001B[1m \u001B[0m┃\u001B[1m \u001B[0m\u001B[1mType        \u001B[0m\u001B[1m \u001B[0m┃\u001B[1m \u001B[0m\u001B[1mCurrent  \u001B[0m\u001B[1m \u001B[0m┃\u001B[1m \u001B[0m\u001B[1mLibrary::DeviceName           \u001B[0m\u001B[1m \u001B[0m┃\u001B[1m \u001B[0m\u001B[1mDescription                  \u001B[0m\u001B[1m \u001B[0m┃\n┡━━━━━━━━━━━━━━━━━━━━━╇━━━━━━━━━━━━━━╇━━━━━━━━━━━╇━━━━━━━━━━━━━━━━━━━━━━━━━━━━━━━━╇━━━━━━━━━━━━━━━━━━━━━━━━━━━━━━━┩\n│\u001B[1;32m \u001B[0m\u001B[1;32mDHub               \u001B[0m\u001B[1;32m \u001B[0m│ 🔌 Hub       │\u001B[1m \u001B[0m\u001B[1m         \u001B[0m\u001B[1m \u001B[0m│ DemoCamera::DHub               │ DHub                          │\n│\u001B[1;32m \u001B[0m\u001B[1;32mCamera             \u001B[0m\u001B[1;32m \u001B[0m│ 📷 Camera    │\u001B[1m \u001B[0m\u001B[1mCamera   \u001B[0m\u001B[1m \u001B[0m│ DemoCamera::DCam               │ Demo camera                   │\n│\u001B[1;32m \u001B[0m\u001B[1;32mDichroic           \u001B[0m\u001B[1;32m \u001B[0m│ 🟢 State     │\u001B[1m \u001B[0m\u001B[1m         \u001B[0m\u001B[1m \u001B[0m│ DemoCamera::DWheel             │ Demo filter wheel             │\n│\u001B[1;32m \u001B[0m\u001B[1;32mEmission           \u001B[0m\u001B[1;32m \u001B[0m│ 🟢 State     │\u001B[1m \u001B[0m\u001B[1m         \u001B[0m\u001B[1m \u001B[0m│ DemoCamera::DWheel             │ Demo filter wheel             │\n│\u001B[1;32m \u001B[0m\u001B[1;32mExcitation         \u001B[0m\u001B[1;32m \u001B[0m│ 🟢 State     │\u001B[1m \u001B[0m\u001B[1m         \u001B[0m\u001B[1m \u001B[0m│ DemoCamera::DWheel             │ Demo filter wheel             │\n│\u001B[1;32m \u001B[0m\u001B[1;32mObjective          \u001B[0m\u001B[1;32m \u001B[0m│ 🟢 State     │\u001B[1m \u001B[0m\u001B[1m         \u001B[0m\u001B[1m \u001B[0m│ DemoCamera::DObjective         │ Demo objective turret         │\n│\u001B[1;32m \u001B[0m\u001B[1;32mZ                  \u001B[0m\u001B[1;32m \u001B[0m│ ⬆  Stage     │\u001B[1m \u001B[0m\u001B[1mFocus    \u001B[0m\u001B[1m \u001B[0m│ DemoCamera::DStage             │ Demo stage                    │\n│\u001B[1;32m \u001B[0m\u001B[1;32mPath               \u001B[0m\u001B[1;32m \u001B[0m│ 🟢 State     │\u001B[1m \u001B[0m\u001B[1m         \u001B[0m\u001B[1m \u001B[0m│ DemoCamera::DLightPath         │ Demo light path               │\n│\u001B[1;32m \u001B[0m\u001B[1;32mXY                 \u001B[0m\u001B[1;32m \u001B[0m│ 🕹  XYStage   │\u001B[1m \u001B[0m\u001B[1mXYStage  \u001B[0m\u001B[1m \u001B[0m│ DemoCamera::DXYStage           │ Demo XY stage                 │\n│\u001B[1;32m \u001B[0m\u001B[1;32mWhite Light Shutter\u001B[0m\u001B[1;32m \u001B[0m│ 💡 Shutter   │\u001B[1m \u001B[0m\u001B[1mShutter  \u001B[0m\u001B[1m \u001B[0m│ DemoCamera::DShutter           │ Demo shutter                  │\n│\u001B[1;32m \u001B[0m\u001B[1;32mAutofocus          \u001B[0m\u001B[1;32m \u001B[0m│ 〰 AutoFocus │\u001B[1m \u001B[0m\u001B[1mAutoFocus\u001B[0m\u001B[1m \u001B[0m│ DemoCamera::DAutoFocus         │ Demo auto focus               │\n│\u001B[1;32m \u001B[0m\u001B[1;32mLED                \u001B[0m\u001B[1;32m \u001B[0m│ 🟢 State     │\u001B[1m \u001B[0m\u001B[1m         \u001B[0m\u001B[1m \u001B[0m│ DemoCamera::DStateDevice       │ Demo State Device             │\n│\u001B[1;32m \u001B[0m\u001B[1;32mLED Shutter        \u001B[0m\u001B[1;32m \u001B[0m│ 💡 Shutter   │\u001B[1m \u001B[0m\u001B[1m         \u001B[0m\u001B[1m \u001B[0m│ Utilities::State Device        │ State device used as a        │\n│\u001B[1;32m                     \u001B[0m│              │\u001B[1m           \u001B[0m│ Shutter                        │ shutter                       │\n│\u001B[1;32m \u001B[0m\u001B[1;32mCore               \u001B[0m\u001B[1;32m \u001B[0m│ 💙 Core      │\u001B[1m \u001B[0m\u001B[1m         \u001B[0m\u001B[1m \u001B[0m│ ::Core                         │ Core device                   │\n└─────────────────────┴──────────────┴───────────┴────────────────────────────────┴───────────────────────────────┘\n",
      "text/html": "<pre style=\"white-space:pre;overflow-x:auto;line-height:normal;font-family:Menlo,'DejaVu Sans Mono',consolas,'Courier New',monospace\">┏━━━━━━━━━━━━━━━━━━━━━┳━━━━━━━━━━━━━━┳━━━━━━━━━━━┳━━━━━━━━━━━━━━━━━━━━━━━━━━━━━━━━┳━━━━━━━━━━━━━━━━━━━━━━━━━━━━━━━┓\n┃<span style=\"font-weight: bold\"> Device Label        </span>┃<span style=\"font-weight: bold\"> Type         </span>┃<span style=\"font-weight: bold\"> Current   </span>┃<span style=\"font-weight: bold\"> Library::DeviceName            </span>┃<span style=\"font-weight: bold\"> Description                   </span>┃\n┡━━━━━━━━━━━━━━━━━━━━━╇━━━━━━━━━━━━━━╇━━━━━━━━━━━╇━━━━━━━━━━━━━━━━━━━━━━━━━━━━━━━━╇━━━━━━━━━━━━━━━━━━━━━━━━━━━━━━━┩\n│<span style=\"color: #008000; text-decoration-color: #008000; font-weight: bold\"> DHub                </span>│ 🔌 Hub       │<span style=\"font-weight: bold\">           </span>│ DemoCamera::DHub               │ DHub                          │\n│<span style=\"color: #008000; text-decoration-color: #008000; font-weight: bold\"> Camera              </span>│ 📷 Camera    │<span style=\"font-weight: bold\"> Camera    </span>│ DemoCamera::DCam               │ Demo camera                   │\n│<span style=\"color: #008000; text-decoration-color: #008000; font-weight: bold\"> Dichroic            </span>│ 🟢 State     │<span style=\"font-weight: bold\">           </span>│ DemoCamera::DWheel             │ Demo filter wheel             │\n│<span style=\"color: #008000; text-decoration-color: #008000; font-weight: bold\"> Emission            </span>│ 🟢 State     │<span style=\"font-weight: bold\">           </span>│ DemoCamera::DWheel             │ Demo filter wheel             │\n│<span style=\"color: #008000; text-decoration-color: #008000; font-weight: bold\"> Excitation          </span>│ 🟢 State     │<span style=\"font-weight: bold\">           </span>│ DemoCamera::DWheel             │ Demo filter wheel             │\n│<span style=\"color: #008000; text-decoration-color: #008000; font-weight: bold\"> Objective           </span>│ 🟢 State     │<span style=\"font-weight: bold\">           </span>│ DemoCamera::DObjective         │ Demo objective turret         │\n│<span style=\"color: #008000; text-decoration-color: #008000; font-weight: bold\"> Z                   </span>│ ⬆  Stage     │<span style=\"font-weight: bold\"> Focus     </span>│ DemoCamera::DStage             │ Demo stage                    │\n│<span style=\"color: #008000; text-decoration-color: #008000; font-weight: bold\"> Path                </span>│ 🟢 State     │<span style=\"font-weight: bold\">           </span>│ DemoCamera::DLightPath         │ Demo light path               │\n│<span style=\"color: #008000; text-decoration-color: #008000; font-weight: bold\"> XY                  </span>│ 🕹  XYStage   │<span style=\"font-weight: bold\"> XYStage   </span>│ DemoCamera::DXYStage           │ Demo XY stage                 │\n│<span style=\"color: #008000; text-decoration-color: #008000; font-weight: bold\"> White Light Shutter </span>│ 💡 Shutter   │<span style=\"font-weight: bold\"> Shutter   </span>│ DemoCamera::DShutter           │ Demo shutter                  │\n│<span style=\"color: #008000; text-decoration-color: #008000; font-weight: bold\"> Autofocus           </span>│ 〰 AutoFocus │<span style=\"font-weight: bold\"> AutoFocus </span>│ DemoCamera::DAutoFocus         │ Demo auto focus               │\n│<span style=\"color: #008000; text-decoration-color: #008000; font-weight: bold\"> LED                 </span>│ 🟢 State     │<span style=\"font-weight: bold\">           </span>│ DemoCamera::DStateDevice       │ Demo State Device             │\n│<span style=\"color: #008000; text-decoration-color: #008000; font-weight: bold\"> LED Shutter         </span>│ 💡 Shutter   │<span style=\"font-weight: bold\">           </span>│ Utilities::State Device        │ State device used as a        │\n│<span style=\"color: #008000; text-decoration-color: #008000; font-weight: bold\">                     </span>│              │<span style=\"font-weight: bold\">           </span>│ Shutter                        │ shutter                       │\n│<span style=\"color: #008000; text-decoration-color: #008000; font-weight: bold\"> Core                </span>│ 💙 Core      │<span style=\"font-weight: bold\">           </span>│ ::Core                         │ Core device                   │\n└─────────────────────┴──────────────┴───────────┴────────────────────────────────┴───────────────────────────────┘\n</pre>\n"
     },
     "metadata": {},
     "output_type": "display_data"
    },
    {
     "name": "stdout",
     "output_type": "stream",
     "text": [
      "None\n"
     ]
    }
   ],
   "source": [
    "from pymmcore_plus import CMMCorePlus\n",
    "import numpy as np\n",
    "from pathlib import Path\n",
    "\n",
    "\n",
    "core = CMMCorePlus()\n",
    "core.loadSystemConfiguration()\n",
    "\n",
    "print(core.describe())"
   ]
  },
  {
   "cell_type": "code",
   "outputs": [],
   "source": [
    "core.wait_for_system()"
   ],
   "metadata": {
    "collapsed": false,
    "ExecuteTime": {
     "end_time": "2025-01-24T04:45:58.730869Z",
     "start_time": "2025-01-24T04:45:58.717870Z"
    }
   },
   "id": "92f4eb9836ea20d5",
   "execution_count": 3
  }
 ],
 "metadata": {
  "kernelspec": {
   "display_name": "Python 3",
   "language": "python",
   "name": "python3"
  },
  "language_info": {
   "codemirror_mode": {
    "name": "ipython",
    "version": 2
   },
   "file_extension": ".py",
   "mimetype": "text/x-python",
   "name": "python",
   "nbconvert_exporter": "python",
   "pygments_lexer": "ipython2",
   "version": "2.7.6"
  }
 },
 "nbformat": 4,
 "nbformat_minor": 5
}
