{
 "cells": [
  {
   "cell_type": "code",
   "id": "initial_id",
   "metadata": {
    "collapsed": true,
    "ExecuteTime": {
     "end_time": "2025-05-15T20:10:29.395800Z",
     "start_time": "2025-05-15T20:10:28.063545Z"
    }
   },
   "source": [
    "import pandas as pd\n",
    "import glasbey\n",
    "import napari\n",
    "\n",
    "viewer = napari.Viewer()\n",
    "\n",
    "p = glasbey.create_palette(100)\n",
    "df = pd.read_csv(r\"D:\\FeedbackControl\\data\\results\\short_tracks.csv\")\n",
    "\n",
    "color = [p[i % 100] for i in df[\"track_id\"]]\n",
    "x = df[[\"frame_y\", \"px_y\", \"px_x\"]].values\n",
    "\n",
    "viewer.add_points(x, size=15, face_color=color, name=\"spots\")\n",
    "\n",
    "napari.run()"
   ],
   "outputs": [],
   "execution_count": 3
  }
 ],
 "metadata": {
  "kernelspec": {
   "display_name": "Python 3",
   "language": "python",
   "name": "python3"
  },
  "language_info": {
   "codemirror_mode": {
    "name": "ipython",
    "version": 2
   },
   "file_extension": ".py",
   "mimetype": "text/x-python",
   "name": "python",
   "nbconvert_exporter": "python",
   "pygments_lexer": "ipython2",
   "version": "2.7.6"
  }
 },
 "nbformat": 4,
 "nbformat_minor": 5
}
